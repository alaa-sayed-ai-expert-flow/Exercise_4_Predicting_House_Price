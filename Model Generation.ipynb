{
 "cells": [
  {
   "cell_type": "markdown",
   "metadata": {
    "id": "fgZ9gjmPfSnK"
   },
   "source": [
    "## Importing Packages"
   ]
  },
  {
   "cell_type": "code",
   "execution_count": 1,
   "metadata": {
    "id": "baYFZMW_bJHh"
   },
   "outputs": [],
   "source": [
    "import pandas as pd\n",
    "import numpy as np\n",
    "\n",
    "# Make numpy values easier to read.\n",
    "np.set_printoptions(precision=3, suppress=True)\n",
    "\n",
    "import tensorflow as tf\n",
    "from tensorflow.keras import layers\n",
    "from tensorflow.keras.layers.experimental import preprocessing\n",
    "from tensorflow.keras import regularizers\n",
    "#from sklearn import preprocessing\n",
    "from sklearn.model_selection import train_test_split"
   ]
  },
  {
   "cell_type": "markdown",
   "metadata": {
    "id": "B87Rd1SOUv02"
   },
   "source": [
    "## Loading Dataset"
   ]
  },
  {
   "cell_type": "code",
   "execution_count": 4,
   "metadata": {
    "colab": {
     "base_uri": "https://localhost:8080/",
     "height": 226
    },
    "id": "GS-dBMpuYMnz",
    "outputId": "9d60321b-6130-4f5d-8216-a6a4fee19ca0"
   },
   "outputs": [
    {
     "data": {
      "text/html": [
       "<div>\n",
       "<style scoped>\n",
       "    .dataframe tbody tr th:only-of-type {\n",
       "        vertical-align: middle;\n",
       "    }\n",
       "\n",
       "    .dataframe tbody tr th {\n",
       "        vertical-align: top;\n",
       "    }\n",
       "\n",
       "    .dataframe thead th {\n",
       "        text-align: right;\n",
       "    }\n",
       "</style>\n",
       "<table border=\"1\" class=\"dataframe\">\n",
       "  <thead>\n",
       "    <tr style=\"text-align: right;\">\n",
       "      <th></th>\n",
       "      <th>Unnamed: 0</th>\n",
       "      <th>SoldPr</th>\n",
       "      <th>Type</th>\n",
       "      <th>Zip</th>\n",
       "      <th>Area</th>\n",
       "      <th>Rooms</th>\n",
       "      <th>FullBaths</th>\n",
       "      <th>HalfBaths</th>\n",
       "      <th>BsmtBth</th>\n",
       "      <th>Beds</th>\n",
       "      <th>BsmtBeds</th>\n",
       "      <th>GarageSpaces</th>\n",
       "      <th>houseEra</th>\n",
       "    </tr>\n",
       "  </thead>\n",
       "  <tbody>\n",
       "    <tr>\n",
       "      <th>0</th>\n",
       "      <td>3500</td>\n",
       "      <td>294718.041797</td>\n",
       "      <td>SFH</td>\n",
       "      <td>60077</td>\n",
       "      <td>1100</td>\n",
       "      <td>7</td>\n",
       "      <td>1</td>\n",
       "      <td>0</td>\n",
       "      <td>No</td>\n",
       "      <td>3.0</td>\n",
       "      <td>0</td>\n",
       "      <td>2.0</td>\n",
       "      <td>19A</td>\n",
       "    </tr>\n",
       "    <tr>\n",
       "      <th>1</th>\n",
       "      <td>6859</td>\n",
       "      <td>330946.875000</td>\n",
       "      <td>SFH</td>\n",
       "      <td>60025</td>\n",
       "      <td>1600</td>\n",
       "      <td>6</td>\n",
       "      <td>2</td>\n",
       "      <td>0</td>\n",
       "      <td>No</td>\n",
       "      <td>3.0</td>\n",
       "      <td>0</td>\n",
       "      <td>2.0</td>\n",
       "      <td>19B</td>\n",
       "    </tr>\n",
       "    <tr>\n",
       "      <th>2</th>\n",
       "      <td>6623</td>\n",
       "      <td>415125.000000</td>\n",
       "      <td>SFH</td>\n",
       "      <td>60025</td>\n",
       "      <td>1500</td>\n",
       "      <td>7</td>\n",
       "      <td>2</td>\n",
       "      <td>0</td>\n",
       "      <td>Yes</td>\n",
       "      <td>3.0</td>\n",
       "      <td>0</td>\n",
       "      <td>2.0</td>\n",
       "      <td>19A</td>\n",
       "    </tr>\n",
       "    <tr>\n",
       "      <th>3</th>\n",
       "      <td>8672</td>\n",
       "      <td>336662.931641</td>\n",
       "      <td>SFH</td>\n",
       "      <td>60076</td>\n",
       "      <td>1422</td>\n",
       "      <td>9</td>\n",
       "      <td>1</td>\n",
       "      <td>1</td>\n",
       "      <td>No</td>\n",
       "      <td>3.0</td>\n",
       "      <td>0</td>\n",
       "      <td>2.5</td>\n",
       "      <td>19A</td>\n",
       "    </tr>\n",
       "    <tr>\n",
       "      <th>4</th>\n",
       "      <td>4572</td>\n",
       "      <td>571775.077344</td>\n",
       "      <td>SFH</td>\n",
       "      <td>60062</td>\n",
       "      <td>2668</td>\n",
       "      <td>8</td>\n",
       "      <td>2</td>\n",
       "      <td>1</td>\n",
       "      <td>No</td>\n",
       "      <td>4.0</td>\n",
       "      <td>0</td>\n",
       "      <td>2.0</td>\n",
       "      <td>19A</td>\n",
       "    </tr>\n",
       "  </tbody>\n",
       "</table>\n",
       "</div>"
      ],
      "text/plain": [
       "   Unnamed: 0         SoldPr Type    Zip  Area  Rooms  FullBaths  HalfBaths  \\\n",
       "0        3500  294718.041797  SFH  60077  1100      7          1          0   \n",
       "1        6859  330946.875000  SFH  60025  1600      6          2          0   \n",
       "2        6623  415125.000000  SFH  60025  1500      7          2          0   \n",
       "3        8672  336662.931641  SFH  60076  1422      9          1          1   \n",
       "4        4572  571775.077344  SFH  60062  2668      8          2          1   \n",
       "\n",
       "  BsmtBth  Beds  BsmtBeds  GarageSpaces houseEra  \n",
       "0      No   3.0         0           2.0      19A  \n",
       "1      No   3.0         0           2.0      19B  \n",
       "2     Yes   3.0         0           2.0      19A  \n",
       "3      No   3.0         0           2.5      19A  \n",
       "4      No   4.0         0           2.0      19A  "
      ]
     },
     "execution_count": 4,
     "metadata": {},
     "output_type": "execute_result"
    }
   ],
   "source": [
    "df = pd.read_csv('cleaned_dataset.csv')\n",
    "df.head()"
   ]
  },
  {
   "cell_type": "markdown",
   "metadata": {},
   "source": [
    "# Deleting First Column"
   ]
  },
  {
   "cell_type": "code",
   "execution_count": 5,
   "metadata": {},
   "outputs": [],
   "source": [
    "df.drop(\"Unnamed: 0\" , inplace = True , axis = 1)"
   ]
  },
  {
   "cell_type": "code",
   "execution_count": 7,
   "metadata": {},
   "outputs": [
    {
     "data": {
      "text/plain": [
       "SoldPr          float64\n",
       "Type             object\n",
       "Zip               int64\n",
       "Area              int64\n",
       "Rooms             int64\n",
       "FullBaths         int64\n",
       "HalfBaths         int64\n",
       "BsmtBth          object\n",
       "Beds            float64\n",
       "BsmtBeds          int64\n",
       "GarageSpaces    float64\n",
       "houseEra         object\n",
       "dtype: object"
      ]
     },
     "execution_count": 7,
     "metadata": {},
     "output_type": "execute_result"
    }
   ],
   "source": [
    "df.dtypes"
   ]
  },
  {
   "cell_type": "code",
   "execution_count": 9,
   "metadata": {
    "colab": {
     "base_uri": "https://localhost:8080/"
    },
    "id": "nngEWwnpx6eJ",
    "outputId": "a0506047-f179-4b92-c184-db0ab2086dd3"
   },
   "outputs": [
    {
     "data": {
      "text/plain": [
       "SoldPr          float64\n",
       "Type             object\n",
       "Zip              object\n",
       "Area              int64\n",
       "Rooms             int64\n",
       "FullBaths         int64\n",
       "HalfBaths         int64\n",
       "BsmtBth          object\n",
       "Beds            float64\n",
       "BsmtBeds          int64\n",
       "GarageSpaces    float64\n",
       "houseEra         object\n",
       "dtype: object"
      ]
     },
     "execution_count": 9,
     "metadata": {},
     "output_type": "execute_result"
    }
   ],
   "source": [
    "df['Zip'] = df['Zip'].astype(str)\n",
    "df.dtypes"
   ]
  },
  {
   "cell_type": "markdown",
   "metadata": {},
   "source": [
    "# Checking The Dataset :"
   ]
  },
  {
   "cell_type": "code",
   "execution_count": 10,
   "metadata": {},
   "outputs": [
    {
     "name": "stdout",
     "output_type": "stream",
     "text": [
      "<class 'pandas.core.frame.DataFrame'>\n",
      "RangeIndex: 9358 entries, 0 to 9357\n",
      "Data columns (total 12 columns):\n",
      " #   Column        Non-Null Count  Dtype  \n",
      "---  ------        --------------  -----  \n",
      " 0   SoldPr        9358 non-null   float64\n",
      " 1   Type          9358 non-null   object \n",
      " 2   Zip           9358 non-null   object \n",
      " 3   Area          9358 non-null   int64  \n",
      " 4   Rooms         9358 non-null   int64  \n",
      " 5   FullBaths     9358 non-null   int64  \n",
      " 6   HalfBaths     9358 non-null   int64  \n",
      " 7   BsmtBth       9358 non-null   object \n",
      " 8   Beds          9358 non-null   float64\n",
      " 9   BsmtBeds      9358 non-null   int64  \n",
      " 10  GarageSpaces  9358 non-null   float64\n",
      " 11  houseEra      9358 non-null   object \n",
      "dtypes: float64(3), int64(5), object(4)\n",
      "memory usage: 877.4+ KB\n"
     ]
    }
   ],
   "source": [
    "df.info()"
   ]
  },
  {
   "cell_type": "code",
   "execution_count": 12,
   "metadata": {
    "colab": {
     "base_uri": "https://localhost:8080/"
    },
    "id": "yPhMIKlWmWo_",
    "outputId": "eaa24a1e-64e7-4b04-ff91-87e6e34bd1b8"
   },
   "outputs": [
    {
     "name": "stdout",
     "output_type": "stream",
     "text": [
      "5988 train examples\n",
      "1498 validation examples\n",
      "1872 test examples\n"
     ]
    }
   ],
   "source": [
    "train, test = train_test_split(df, test_size=0.2)\n",
    "train, val = train_test_split(train, test_size=0.2)\n",
    "print(len(train), 'train examples')\n",
    "print(len(val), 'validation examples')\n",
    "print(len(test), 'test examples')\n"
   ]
  },
  {
   "cell_type": "markdown",
   "metadata": {
    "id": "44RzokpwQbAJ"
   },
   "source": [
    "Next, we will separate the training and validation dataframes into features and targets and do a rough normalisation of price."
   ]
  },
  {
   "cell_type": "code",
   "execution_count": 13,
   "metadata": {
    "id": "D8rCGIK1ZzKx"
   },
   "outputs": [],
   "source": [
    "housePrices_features = train.copy()\n",
    "housePrices_labels = housePrices_features.pop('SoldPr')\n",
    "housePrices_labels = housePrices_labels/100000\n",
    "\n",
    "val_features = val.copy()\n",
    "val_labels = val.pop('SoldPr')\n",
    "val_labels = val_labels/100000"
   ]
  },
  {
   "cell_type": "code",
   "execution_count": 14,
   "metadata": {
    "colab": {
     "base_uri": "https://localhost:8080/"
    },
    "id": "3VshL1mDKSf6",
    "outputId": "7c65fe1a-a165-40b9-c17d-658cf22407b2"
   },
   "outputs": [
    {
     "name": "stdout",
     "output_type": "stream",
     "text": [
      "Type             object\n",
      "Zip              object\n",
      "Area              int64\n",
      "Rooms             int64\n",
      "FullBaths         int64\n",
      "HalfBaths         int64\n",
      "BsmtBth          object\n",
      "Beds            float64\n",
      "BsmtBeds          int64\n",
      "GarageSpaces    float64\n",
      "houseEra         object\n",
      "dtype: object\n",
      "float64\n"
     ]
    }
   ],
   "source": [
    "print(housePrices_features.dtypes)\n",
    "print(housePrices_labels.dtypes)"
   ]
  },
  {
   "cell_type": "code",
   "execution_count": 15,
   "metadata": {
    "colab": {
     "base_uri": "https://localhost:8080/"
    },
    "id": "5WODe_1da3yw",
    "outputId": "438c856c-3d61-4564-c8d5-c4837ce328f2"
   },
   "outputs": [
    {
     "data": {
      "text/plain": [
       "{'Type': <KerasTensor: shape=(None, 1) dtype=string (created by layer 'Type')>,\n",
       " 'Zip': <KerasTensor: shape=(None, 1) dtype=string (created by layer 'Zip')>,\n",
       " 'Area': <KerasTensor: shape=(None, 1) dtype=float32 (created by layer 'Area')>,\n",
       " 'Rooms': <KerasTensor: shape=(None, 1) dtype=float32 (created by layer 'Rooms')>,\n",
       " 'FullBaths': <KerasTensor: shape=(None, 1) dtype=float32 (created by layer 'FullBaths')>,\n",
       " 'HalfBaths': <KerasTensor: shape=(None, 1) dtype=float32 (created by layer 'HalfBaths')>,\n",
       " 'BsmtBth': <KerasTensor: shape=(None, 1) dtype=string (created by layer 'BsmtBth')>,\n",
       " 'Beds': <KerasTensor: shape=(None, 1) dtype=float32 (created by layer 'Beds')>,\n",
       " 'BsmtBeds': <KerasTensor: shape=(None, 1) dtype=float32 (created by layer 'BsmtBeds')>,\n",
       " 'GarageSpaces': <KerasTensor: shape=(None, 1) dtype=float32 (created by layer 'GarageSpaces')>,\n",
       " 'houseEra': <KerasTensor: shape=(None, 1) dtype=string (created by layer 'houseEra')>}"
      ]
     },
     "execution_count": 15,
     "metadata": {},
     "output_type": "execute_result"
    }
   ],
   "source": [
    "inputs = {}\n",
    "\n",
    "for name, column in housePrices_features.items():\n",
    "  dtype = column.dtype\n",
    "  if dtype == object:\n",
    "    dtype = tf.string\n",
    "  else:\n",
    "    dtype = tf.float32\n",
    "\n",
    "  inputs[name] = tf.keras.Input(shape=(1,), name=name, dtype=dtype)\n",
    "\n",
    "inputs"
   ]
  },
  {
   "cell_type": "code",
   "execution_count": 17,
   "metadata": {
    "colab": {
     "base_uri": "https://localhost:8080/"
    },
    "id": "wPRC_E6rkp8D",
    "outputId": "d07d5c2f-f181-49d7-fe67-7dd3055a0d90"
   },
   "outputs": [
    {
     "data": {
      "text/plain": [
       "<KerasTensor: shape=(None, 7) dtype=float32 (created by layer 'normalization_1')>"
      ]
     },
     "execution_count": 17,
     "metadata": {},
     "output_type": "execute_result"
    }
   ],
   "source": [
    "numeric_inputs = {name:input for name,input in inputs.items()\n",
    "                  if input.dtype==tf.float32}\n",
    "\n",
    "x = layers.Concatenate()(list(numeric_inputs.values()))\n",
    "norm = preprocessing.Normalization()\n",
    "norm.adapt(np.array(df[numeric_inputs.keys()]))\n",
    "all_numeric_inputs = norm(x)\n",
    "\n",
    "all_numeric_inputs"
   ]
  },
  {
   "cell_type": "markdown",
   "metadata": {
    "id": "-JoR45Uj712l"
   },
   "source": [
    "Collect all the symbolic preprocessing results, to concatenate them later."
   ]
  },
  {
   "cell_type": "code",
   "execution_count": 18,
   "metadata": {
    "id": "M7jIJw5XntdN"
   },
   "outputs": [],
   "source": [
    "preprocessed_inputs = [all_numeric_inputs]"
   ]
  },
  {
   "cell_type": "markdown",
   "metadata": {
    "id": "r0Hryylyosfm"
   },
   "source": [
    "String fields will first use a StringLookup function to map the strings to their corresponding index in a vocabulary based on the different data strings. Second, using the index and default settings, the Tensorflow's pre-processing category encoding will generate a one-hot vector.\n",
    "\n",
    "Together with the numeric field handling, we then transform the input data."
   ]
  },
  {
   "cell_type": "code",
   "execution_count": 20,
   "metadata": {
    "id": "79fi1Cgan2YV"
   },
   "outputs": [],
   "source": [
    "for name, input in inputs.items():\n",
    "  if input.dtype == tf.float32:\n",
    "    continue\n",
    "\n",
    "  lookup = preprocessing.StringLookup(vocabulary=np.unique(housePrices_features[name]))\n",
    "  one_hot = preprocessing.CategoryEncoding(num_tokens =lookup.vocabulary_size())\n",
    "\n",
    "  x = lookup(input)\n",
    "  x = one_hot(x)\n",
    "  preprocessed_inputs.append(x)"
   ]
  },
  {
   "cell_type": "markdown",
   "metadata": {
    "id": "Wnhv0T7itnc7"
   },
   "source": [
    "Given the preprocessed inputs (for normalisation and categorisation) and the corresponding input fields we can build a model the preprocesses the input data. We can visualise the model, as shown below."
   ]
  },
  {
   "cell_type": "code",
   "execution_count": 22,
   "metadata": {
    "colab": {
     "base_uri": "https://localhost:8080/",
     "height": 525
    },
    "id": "XJRzUTe8ukXc",
    "outputId": "7c43d279-442c-40cf-c4d4-324f70befb8c"
   },
   "outputs": [
    {
     "name": "stdout",
     "output_type": "stream",
     "text": [
      "You must install pydot (`pip install pydot`) and install graphviz (see instructions at https://graphviz.gitlab.io/download/) for plot_model to work.\n"
     ]
    }
   ],
   "source": [
    "preprocessed_inputs_cat = layers.Concatenate()(preprocessed_inputs)\n",
    "\n",
    "housePrices_preprocessing = tf.keras.Model(inputs, preprocessed_inputs_cat)\n",
    "\n",
    "tf.keras.utils.plot_model(model = housePrices_preprocessing , rankdir=\"LR\", dpi=72, show_shapes=True)"
   ]
  },
  {
   "cell_type": "code",
   "execution_count": 23,
   "metadata": {
    "id": "5YjdYyMEacwQ"
   },
   "outputs": [],
   "source": [
    "housePrices_features_dict = {name: np.array(value)\n",
    "                         for name, value in housePrices_features.items()}"
   ]
  },
  {
   "cell_type": "code",
   "execution_count": 24,
   "metadata": {
    "colab": {
     "base_uri": "https://localhost:8080/"
    },
    "id": "SjnmU8PSv8T3",
    "outputId": "4bf7b766-0371-48fc-872c-84bd2ae5a597"
   },
   "outputs": [
    {
     "data": {
      "text/plain": [
       "<tf.Tensor: shape=(1, 69), dtype=float32, numpy=\n",
       "array([[-0.443, -0.399, -1.248,  0.767, -0.226, -0.374,  0.243,  0.   ,\n",
       "         0.   ,  0.   ,  1.   ,  0.   ,  0.   ,  1.   ,  0.   ,  0.   ,\n",
       "         0.   ,  0.   ,  0.   ,  0.   ,  0.   ,  0.   ,  0.   ,  0.   ,\n",
       "         0.   ,  0.   ,  0.   ,  0.   ,  0.   ,  1.   ,  0.   ,  0.   ,\n",
       "         1.   ,  0.   ,  0.   ,  0.   ,  0.   ,  0.   ,  0.   ,  0.   ,\n",
       "         0.   ,  1.   ,  0.   ,  0.   ,  1.   ,  0.   ,  0.   ,  0.   ,\n",
       "         0.   ,  0.   ,  0.   ,  0.   ,  0.   ,  0.   ,  0.   ,  0.   ,\n",
       "         0.   ,  0.   ,  0.   ,  0.   ,  1.   ,  0.   ,  0.   ,  1.   ,\n",
       "         0.   ,  0.   ,  0.   ,  0.   ,  0.   ]], dtype=float32)>"
      ]
     },
     "execution_count": 24,
     "metadata": {},
     "output_type": "execute_result"
    }
   ],
   "source": [
    "features_dict = {name:values[:1] for name, values in housePrices_features_dict.items()}\n",
    "housePrices_preprocessing(features_dict)"
   ]
  },
  {
   "cell_type": "code",
   "execution_count": 25,
   "metadata": {
    "id": "coIPtGaCzUV7"
   },
   "outputs": [],
   "source": [
    "def housePrices_model(preprocessing_head, inputs):\n",
    "  body = tf.keras.Sequential([\n",
    "    layers.Dense(128,activation='relu', kernel_regularizer=regularizers.l2(0.001)),\n",
    "    layers.Dense(64,activation='relu'),\n",
    "    #layers.Dense(64,activation='relu'),\n",
    "    layers.Dense(1)\n",
    "  ])\n",
    "\n",
    "  preprocessed_inputs = preprocessing_head(inputs)\n",
    "  result = body(preprocessed_inputs)\n",
    "  model = tf.keras.Model(inputs, result)\n",
    "\n",
    "  model.compile(loss='mse', optimizer='adam', metrics=['mae'])\n",
    "  return model\n",
    "\n",
    "housePrices_model = housePrices_model(housePrices_preprocessing, inputs)"
   ]
  },
  {
   "cell_type": "markdown",
   "metadata": {
    "id": "LK5uBQQF2KbZ"
   },
   "source": [
    "When you train the model, pass the dictionary of features as 'x', and the label as 'y'."
   ]
  },
  {
   "cell_type": "code",
   "execution_count": 26,
   "metadata": {
    "id": "VpMHKYTqomAL"
   },
   "outputs": [
    {
     "name": "stdout",
     "output_type": "stream",
     "text": [
      "Epoch 1/250\n",
      "188/188 [==============================] - 3s 13ms/step - loss: 5.0737 - mae: 1.3223 - val_loss: 2.0653 - val_mae: 0.8644\n",
      "Epoch 2/250\n",
      "188/188 [==============================] - 2s 11ms/step - loss: 2.1224 - mae: 0.8547 - val_loss: 1.7354 - val_mae: 0.7682\n",
      "Epoch 3/250\n",
      "188/188 [==============================] - 2s 11ms/step - loss: 1.9978 - mae: 0.8361 - val_loss: 1.7121 - val_mae: 0.7688\n",
      "Epoch 4/250\n",
      "188/188 [==============================] - 2s 11ms/step - loss: 1.8955 - mae: 0.8102 - val_loss: 1.6625 - val_mae: 0.7603\n",
      "Epoch 5/250\n",
      "188/188 [==============================] - 2s 11ms/step - loss: 1.8635 - mae: 0.8073 - val_loss: 1.6242 - val_mae: 0.7424\n",
      "Epoch 6/250\n",
      "188/188 [==============================] - 2s 11ms/step - loss: 1.7945 - mae: 0.7850 - val_loss: 1.7151 - val_mae: 0.7665\n",
      "Epoch 7/250\n",
      "188/188 [==============================] - 2s 11ms/step - loss: 1.7828 - mae: 0.7932 - val_loss: 1.7042 - val_mae: 0.7638\n",
      "Epoch 8/250\n",
      "188/188 [==============================] - 2s 11ms/step - loss: 1.7065 - mae: 0.7695 - val_loss: 1.6550 - val_mae: 0.7704\n",
      "Epoch 9/250\n",
      "188/188 [==============================] - 2s 11ms/step - loss: 1.6512 - mae: 0.7608 - val_loss: 1.5885 - val_mae: 0.7391\n",
      "Epoch 10/250\n",
      "188/188 [==============================] - 2s 11ms/step - loss: 1.6272 - mae: 0.7525 - val_loss: 1.7512 - val_mae: 0.7751\n",
      "Epoch 11/250\n",
      "188/188 [==============================] - 2s 11ms/step - loss: 1.6470 - mae: 0.7717 - val_loss: 1.6055 - val_mae: 0.7570\n",
      "Epoch 12/250\n",
      "188/188 [==============================] - 2s 11ms/step - loss: 1.5637 - mae: 0.7497 - val_loss: 1.6772 - val_mae: 0.7706\n",
      "Epoch 13/250\n",
      "188/188 [==============================] - 2s 11ms/step - loss: 1.5979 - mae: 0.7533 - val_loss: 2.0433 - val_mae: 0.8755\n",
      "Epoch 14/250\n",
      "188/188 [==============================] - 2s 11ms/step - loss: 1.5699 - mae: 0.7555 - val_loss: 1.7139 - val_mae: 0.7671\n",
      "Epoch 15/250\n",
      "188/188 [==============================] - 2s 11ms/step - loss: 1.5618 - mae: 0.7581 - val_loss: 1.5756 - val_mae: 0.7377\n",
      "Epoch 16/250\n",
      "188/188 [==============================] - 2s 11ms/step - loss: 1.5189 - mae: 0.7379 - val_loss: 1.6568 - val_mae: 0.7488\n",
      "Epoch 17/250\n",
      "188/188 [==============================] - 2s 11ms/step - loss: 1.4888 - mae: 0.7449 - val_loss: 1.8047 - val_mae: 0.8441\n",
      "Epoch 18/250\n",
      "188/188 [==============================] - 2s 11ms/step - loss: 1.5338 - mae: 0.7568 - val_loss: 1.5655 - val_mae: 0.7354\n",
      "Epoch 19/250\n",
      "188/188 [==============================] - 2s 11ms/step - loss: 1.4482 - mae: 0.7266 - val_loss: 1.7041 - val_mae: 0.8053\n",
      "Epoch 20/250\n",
      "188/188 [==============================] - 2s 11ms/step - loss: 1.4138 - mae: 0.7168 - val_loss: 1.7818 - val_mae: 0.8247\n",
      "Epoch 21/250\n",
      "188/188 [==============================] - 2s 11ms/step - loss: 1.4138 - mae: 0.7251 - val_loss: 1.8161 - val_mae: 0.8189\n",
      "Epoch 22/250\n",
      "188/188 [==============================] - 2s 11ms/step - loss: 1.5309 - mae: 0.7642 - val_loss: 1.7390 - val_mae: 0.7755\n",
      "Epoch 23/250\n",
      "188/188 [==============================] - 2s 11ms/step - loss: 1.3961 - mae: 0.7220 - val_loss: 1.6779 - val_mae: 0.7654\n",
      "Epoch 24/250\n",
      "188/188 [==============================] - 2s 11ms/step - loss: 1.3845 - mae: 0.7190 - val_loss: 1.6486 - val_mae: 0.7569\n",
      "Epoch 25/250\n",
      "188/188 [==============================] - 2s 11ms/step - loss: 1.3200 - mae: 0.7021 - val_loss: 1.6562 - val_mae: 0.7816\n",
      "Epoch 26/250\n",
      "188/188 [==============================] - 2s 11ms/step - loss: 1.3404 - mae: 0.7119 - val_loss: 1.6772 - val_mae: 0.7587\n",
      "Epoch 27/250\n",
      "188/188 [==============================] - 2s 11ms/step - loss: 1.2943 - mae: 0.6987 - val_loss: 1.9114 - val_mae: 0.8320\n",
      "Epoch 28/250\n",
      "188/188 [==============================] - 2s 11ms/step - loss: 1.3192 - mae: 0.7132 - val_loss: 1.7617 - val_mae: 0.7839\n",
      "Epoch 29/250\n",
      "188/188 [==============================] - 2s 11ms/step - loss: 1.2770 - mae: 0.6986 - val_loss: 1.6085 - val_mae: 0.7493\n",
      "Epoch 30/250\n",
      "188/188 [==============================] - 2s 11ms/step - loss: 1.2339 - mae: 0.6853 - val_loss: 1.6966 - val_mae: 0.7857\n",
      "Epoch 31/250\n",
      "188/188 [==============================] - 2s 11ms/step - loss: 1.2592 - mae: 0.6942 - val_loss: 2.0076 - val_mae: 0.8592\n",
      "Epoch 32/250\n",
      "188/188 [==============================] - 2s 11ms/step - loss: 1.2460 - mae: 0.6995 - val_loss: 2.0704 - val_mae: 0.8221\n",
      "Epoch 33/250\n",
      "188/188 [==============================] - 2s 11ms/step - loss: 1.2212 - mae: 0.6918 - val_loss: 1.7252 - val_mae: 0.7652\n",
      "Epoch 34/250\n",
      "188/188 [==============================] - 2s 11ms/step - loss: 1.1722 - mae: 0.6768 - val_loss: 2.1097 - val_mae: 0.8427\n",
      "Epoch 35/250\n",
      "188/188 [==============================] - 2s 12ms/step - loss: 1.2580 - mae: 0.7010 - val_loss: 1.6929 - val_mae: 0.7719\n",
      "Epoch 36/250\n",
      "188/188 [==============================] - 2s 12ms/step - loss: 1.1918 - mae: 0.6849 - val_loss: 1.9526 - val_mae: 0.8298\n",
      "Epoch 37/250\n",
      "188/188 [==============================] - 2s 11ms/step - loss: 1.2583 - mae: 0.6969 - val_loss: 1.9191 - val_mae: 0.8013\n",
      "Epoch 38/250\n",
      "188/188 [==============================] - 2s 11ms/step - loss: 1.1241 - mae: 0.6656 - val_loss: 1.7922 - val_mae: 0.7642\n",
      "Epoch 39/250\n",
      "188/188 [==============================] - 2s 12ms/step - loss: 1.1202 - mae: 0.6719 - val_loss: 1.8439 - val_mae: 0.8026\n",
      "Epoch 40/250\n",
      "188/188 [==============================] - 2s 11ms/step - loss: 1.1449 - mae: 0.6733 - val_loss: 1.7553 - val_mae: 0.7564\n",
      "Epoch 41/250\n",
      "188/188 [==============================] - 2s 11ms/step - loss: 1.0781 - mae: 0.6569 - val_loss: 1.7954 - val_mae: 0.7633\n",
      "Epoch 42/250\n",
      "188/188 [==============================] - 2s 11ms/step - loss: 1.0976 - mae: 0.6689 - val_loss: 1.7444 - val_mae: 0.7768\n",
      "Epoch 43/250\n",
      "188/188 [==============================] - 2s 11ms/step - loss: 1.0533 - mae: 0.6504 - val_loss: 1.9779 - val_mae: 0.8021\n",
      "Epoch 44/250\n",
      "188/188 [==============================] - 2s 11ms/step - loss: 1.0797 - mae: 0.6610 - val_loss: 1.7290 - val_mae: 0.7703\n",
      "Epoch 45/250\n",
      "188/188 [==============================] - 2s 11ms/step - loss: 1.1068 - mae: 0.6736 - val_loss: 1.8560 - val_mae: 0.7751\n",
      "Epoch 46/250\n",
      "188/188 [==============================] - 2s 11ms/step - loss: 1.0550 - mae: 0.6568 - val_loss: 1.7221 - val_mae: 0.7595\n",
      "Epoch 47/250\n",
      "188/188 [==============================] - 2s 11ms/step - loss: 1.0179 - mae: 0.6417 - val_loss: 1.7100 - val_mae: 0.7736\n",
      "Epoch 48/250\n",
      "188/188 [==============================] - 2s 11ms/step - loss: 1.0357 - mae: 0.6547 - val_loss: 1.7696 - val_mae: 0.7760\n",
      "Epoch 49/250\n",
      "188/188 [==============================] - 2s 11ms/step - loss: 1.0062 - mae: 0.6387 - val_loss: 1.8498 - val_mae: 0.7847\n",
      "Epoch 50/250\n",
      "188/188 [==============================] - 2s 11ms/step - loss: 1.0066 - mae: 0.6424 - val_loss: 1.8728 - val_mae: 0.7778\n",
      "Epoch 51/250\n",
      "188/188 [==============================] - 2s 11ms/step - loss: 0.9684 - mae: 0.6308 - val_loss: 1.8010 - val_mae: 0.7971\n",
      "Epoch 52/250\n",
      "188/188 [==============================] - 2s 11ms/step - loss: 0.9576 - mae: 0.6230 - val_loss: 1.7926 - val_mae: 0.7722\n",
      "Epoch 53/250\n",
      "188/188 [==============================] - 2s 11ms/step - loss: 0.9862 - mae: 0.6356 - val_loss: 2.0020 - val_mae: 0.7994\n",
      "Epoch 54/250\n",
      "188/188 [==============================] - 2s 11ms/step - loss: 0.9896 - mae: 0.6418 - val_loss: 1.8593 - val_mae: 0.8213\n",
      "Epoch 55/250\n",
      "188/188 [==============================] - 2s 11ms/step - loss: 0.9228 - mae: 0.6196 - val_loss: 1.7410 - val_mae: 0.7638\n",
      "Epoch 56/250\n",
      "188/188 [==============================] - 2s 11ms/step - loss: 0.9358 - mae: 0.6268 - val_loss: 1.9921 - val_mae: 0.8025\n",
      "Epoch 57/250\n",
      "188/188 [==============================] - 2s 11ms/step - loss: 0.9351 - mae: 0.6276 - val_loss: 1.8078 - val_mae: 0.7935\n",
      "Epoch 58/250\n",
      "188/188 [==============================] - 2s 11ms/step - loss: 0.9150 - mae: 0.6175 - val_loss: 1.7669 - val_mae: 0.7645\n",
      "Epoch 59/250\n",
      "188/188 [==============================] - 2s 11ms/step - loss: 0.9347 - mae: 0.6208 - val_loss: 1.8608 - val_mae: 0.8066\n",
      "Epoch 60/250\n",
      "188/188 [==============================] - 2s 11ms/step - loss: 0.8928 - mae: 0.6117 - val_loss: 1.9553 - val_mae: 0.8013\n",
      "Epoch 61/250\n",
      "188/188 [==============================] - 2s 11ms/step - loss: 0.8762 - mae: 0.6036 - val_loss: 1.7877 - val_mae: 0.7743\n",
      "Epoch 62/250\n",
      "188/188 [==============================] - 2s 11ms/step - loss: 0.8758 - mae: 0.6059 - val_loss: 1.7684 - val_mae: 0.7674\n",
      "Epoch 63/250\n",
      "188/188 [==============================] - 2s 11ms/step - loss: 0.8864 - mae: 0.6034 - val_loss: 2.0399 - val_mae: 0.8145\n",
      "Epoch 64/250\n",
      "188/188 [==============================] - 2s 11ms/step - loss: 0.8784 - mae: 0.6018 - val_loss: 1.7748 - val_mae: 0.7731\n",
      "Epoch 65/250\n",
      "188/188 [==============================] - 2s 11ms/step - loss: 0.9183 - mae: 0.6164 - val_loss: 1.7129 - val_mae: 0.7721\n",
      "Epoch 66/250\n",
      "188/188 [==============================] - 2s 11ms/step - loss: 0.8738 - mae: 0.6091 - val_loss: 1.7923 - val_mae: 0.7857\n",
      "Epoch 67/250\n",
      "188/188 [==============================] - 2s 11ms/step - loss: 0.8543 - mae: 0.6046 - val_loss: 1.8522 - val_mae: 0.7719\n",
      "Epoch 68/250\n",
      "188/188 [==============================] - 2s 11ms/step - loss: 0.8394 - mae: 0.5978 - val_loss: 1.8295 - val_mae: 0.7842\n",
      "Epoch 69/250\n",
      "188/188 [==============================] - 2s 11ms/step - loss: 0.8617 - mae: 0.6091 - val_loss: 1.8862 - val_mae: 0.8274\n",
      "Epoch 70/250\n",
      "188/188 [==============================] - 2s 11ms/step - loss: 0.8348 - mae: 0.5927 - val_loss: 1.8183 - val_mae: 0.7860\n",
      "Epoch 71/250\n",
      "188/188 [==============================] - 2s 11ms/step - loss: 0.8249 - mae: 0.5884 - val_loss: 1.8507 - val_mae: 0.7901\n",
      "Epoch 72/250\n",
      "188/188 [==============================] - 2s 11ms/step - loss: 0.8093 - mae: 0.5846 - val_loss: 1.9261 - val_mae: 0.7911\n",
      "Epoch 73/250\n",
      "188/188 [==============================] - 2s 11ms/step - loss: 0.8237 - mae: 0.5909 - val_loss: 1.9702 - val_mae: 0.8183\n",
      "Epoch 74/250\n",
      "188/188 [==============================] - 2s 11ms/step - loss: 0.8340 - mae: 0.5883 - val_loss: 1.7894 - val_mae: 0.7839\n",
      "Epoch 75/250\n",
      "188/188 [==============================] - 2s 11ms/step - loss: 0.8165 - mae: 0.5866 - val_loss: 1.8654 - val_mae: 0.7817\n",
      "Epoch 76/250\n",
      "188/188 [==============================] - 2s 11ms/step - loss: 0.7959 - mae: 0.5778 - val_loss: 1.9495 - val_mae: 0.8043\n",
      "Epoch 77/250\n",
      "188/188 [==============================] - 2s 11ms/step - loss: 0.7680 - mae: 0.5717 - val_loss: 1.7927 - val_mae: 0.7922\n",
      "Epoch 78/250\n",
      "188/188 [==============================] - 2s 11ms/step - loss: 0.8614 - mae: 0.5971 - val_loss: 1.9644 - val_mae: 0.8006\n",
      "Epoch 79/250\n",
      "188/188 [==============================] - 2s 11ms/step - loss: 0.7665 - mae: 0.5661 - val_loss: 1.7694 - val_mae: 0.7760\n",
      "Epoch 80/250\n",
      "188/188 [==============================] - 2s 11ms/step - loss: 0.7425 - mae: 0.5605 - val_loss: 1.7972 - val_mae: 0.7881\n",
      "Epoch 81/250\n",
      "188/188 [==============================] - 2s 11ms/step - loss: 0.7958 - mae: 0.5852 - val_loss: 2.0626 - val_mae: 0.8141\n",
      "Epoch 82/250\n",
      "188/188 [==============================] - 2s 11ms/step - loss: 0.7660 - mae: 0.5666 - val_loss: 2.0056 - val_mae: 0.8288\n",
      "Epoch 83/250\n",
      "188/188 [==============================] - 2s 11ms/step - loss: 0.8166 - mae: 0.5868 - val_loss: 2.2891 - val_mae: 0.8659\n",
      "Epoch 84/250\n",
      "188/188 [==============================] - 2s 11ms/step - loss: 0.8063 - mae: 0.5834 - val_loss: 1.9085 - val_mae: 0.8026\n",
      "Epoch 85/250\n",
      "188/188 [==============================] - 2s 11ms/step - loss: 0.7559 - mae: 0.5648 - val_loss: 1.9040 - val_mae: 0.7879\n",
      "Epoch 86/250\n",
      "188/188 [==============================] - 2s 11ms/step - loss: 0.7247 - mae: 0.5561 - val_loss: 2.0426 - val_mae: 0.7930\n",
      "Epoch 87/250\n",
      "188/188 [==============================] - 2s 11ms/step - loss: 0.7401 - mae: 0.5577 - val_loss: 2.0742 - val_mae: 0.8015\n",
      "Epoch 88/250\n",
      "188/188 [==============================] - 2s 11ms/step - loss: 0.7422 - mae: 0.5640 - val_loss: 1.9285 - val_mae: 0.7884\n",
      "Epoch 89/250\n",
      "188/188 [==============================] - 2s 11ms/step - loss: 0.7354 - mae: 0.5571 - val_loss: 1.9150 - val_mae: 0.7929\n",
      "Epoch 90/250\n",
      "188/188 [==============================] - 2s 11ms/step - loss: 0.7146 - mae: 0.5503 - val_loss: 1.9433 - val_mae: 0.8046\n",
      "Epoch 91/250\n",
      "188/188 [==============================] - 2s 11ms/step - loss: 0.7024 - mae: 0.5457 - val_loss: 1.9622 - val_mae: 0.8058\n",
      "Epoch 92/250\n",
      "188/188 [==============================] - 2s 11ms/step - loss: 0.7342 - mae: 0.5602 - val_loss: 2.0378 - val_mae: 0.8243\n",
      "Epoch 93/250\n",
      "188/188 [==============================] - 2s 11ms/step - loss: 0.7696 - mae: 0.5689 - val_loss: 1.9317 - val_mae: 0.7999\n",
      "Epoch 94/250\n",
      "188/188 [==============================] - 2s 11ms/step - loss: 0.7065 - mae: 0.5464 - val_loss: 1.9495 - val_mae: 0.8139\n",
      "Epoch 95/250\n",
      "188/188 [==============================] - 2s 11ms/step - loss: 0.7151 - mae: 0.5489 - val_loss: 1.8976 - val_mae: 0.7983\n",
      "Epoch 96/250\n",
      "188/188 [==============================] - 2s 11ms/step - loss: 0.6840 - mae: 0.5372 - val_loss: 1.9951 - val_mae: 0.8136\n",
      "Epoch 97/250\n",
      "188/188 [==============================] - 2s 11ms/step - loss: 0.6768 - mae: 0.5369 - val_loss: 2.1081 - val_mae: 0.8063\n",
      "Epoch 98/250\n",
      "188/188 [==============================] - 2s 11ms/step - loss: 0.7387 - mae: 0.5617 - val_loss: 2.0861 - val_mae: 0.8490\n",
      "Epoch 99/250\n",
      "188/188 [==============================] - 2s 11ms/step - loss: 0.7949 - mae: 0.5735 - val_loss: 2.2176 - val_mae: 0.8388\n",
      "Epoch 100/250\n",
      "188/188 [==============================] - 2s 11ms/step - loss: 0.7110 - mae: 0.5477 - val_loss: 2.0615 - val_mae: 0.8013\n",
      "Epoch 101/250\n",
      "188/188 [==============================] - 2s 11ms/step - loss: 0.6903 - mae: 0.5380 - val_loss: 1.9909 - val_mae: 0.8134\n",
      "Epoch 102/250\n",
      "188/188 [==============================] - 2s 11ms/step - loss: 0.6978 - mae: 0.5464 - val_loss: 1.9951 - val_mae: 0.8299\n",
      "Epoch 103/250\n",
      "188/188 [==============================] - 2s 11ms/step - loss: 0.6730 - mae: 0.5403 - val_loss: 1.9780 - val_mae: 0.8163\n",
      "Epoch 104/250\n",
      "188/188 [==============================] - 2s 11ms/step - loss: 0.6793 - mae: 0.5363 - val_loss: 1.9369 - val_mae: 0.7995\n",
      "Epoch 105/250\n",
      "188/188 [==============================] - 2s 11ms/step - loss: 0.6914 - mae: 0.5370 - val_loss: 2.0212 - val_mae: 0.8251\n",
      "Epoch 106/250\n",
      "188/188 [==============================] - 2s 11ms/step - loss: 0.6869 - mae: 0.5355 - val_loss: 2.0190 - val_mae: 0.8089\n",
      "Epoch 107/250\n",
      "188/188 [==============================] - 2s 11ms/step - loss: 0.7330 - mae: 0.5526 - val_loss: 2.2331 - val_mae: 0.8588\n",
      "Epoch 108/250\n",
      "188/188 [==============================] - 2s 11ms/step - loss: 0.6456 - mae: 0.5224 - val_loss: 2.0331 - val_mae: 0.8519\n",
      "Epoch 109/250\n",
      "188/188 [==============================] - 2s 11ms/step - loss: 0.6507 - mae: 0.5265 - val_loss: 2.0113 - val_mae: 0.8145\n",
      "Epoch 110/250\n",
      "188/188 [==============================] - 2s 11ms/step - loss: 0.6644 - mae: 0.5327 - val_loss: 2.0420 - val_mae: 0.8429\n",
      "Epoch 111/250\n",
      "188/188 [==============================] - 2s 11ms/step - loss: 0.7047 - mae: 0.5458 - val_loss: 2.0506 - val_mae: 0.8167\n",
      "Epoch 112/250\n",
      "188/188 [==============================] - 2s 11ms/step - loss: 0.6549 - mae: 0.5249 - val_loss: 2.0318 - val_mae: 0.8125\n",
      "Epoch 113/250\n",
      "188/188 [==============================] - 2s 11ms/step - loss: 0.6490 - mae: 0.5279 - val_loss: 1.9866 - val_mae: 0.8036\n",
      "Epoch 114/250\n",
      "188/188 [==============================] - 2s 11ms/step - loss: 0.6553 - mae: 0.5272 - val_loss: 2.0362 - val_mae: 0.8169\n",
      "Epoch 115/250\n",
      "188/188 [==============================] - 2s 11ms/step - loss: 0.6428 - mae: 0.5241 - val_loss: 2.1309 - val_mae: 0.8250\n",
      "Epoch 116/250\n",
      "188/188 [==============================] - 2s 11ms/step - loss: 0.6655 - mae: 0.5338 - val_loss: 1.9577 - val_mae: 0.8153\n",
      "Epoch 117/250\n",
      "188/188 [==============================] - 2s 11ms/step - loss: 0.6551 - mae: 0.5304 - val_loss: 2.0584 - val_mae: 0.8267\n",
      "Epoch 118/250\n",
      "188/188 [==============================] - 2s 11ms/step - loss: 0.6285 - mae: 0.5173 - val_loss: 2.0636 - val_mae: 0.8268\n",
      "Epoch 119/250\n",
      "188/188 [==============================] - 2s 11ms/step - loss: 0.7633 - mae: 0.5625 - val_loss: 2.0809 - val_mae: 0.8186\n",
      "Epoch 120/250\n",
      "188/188 [==============================] - 2s 11ms/step - loss: 0.6440 - mae: 0.5255 - val_loss: 2.1179 - val_mae: 0.8154\n",
      "Epoch 121/250\n",
      "188/188 [==============================] - 2s 11ms/step - loss: 0.6243 - mae: 0.5136 - val_loss: 1.9740 - val_mae: 0.8114\n",
      "Epoch 122/250\n",
      "188/188 [==============================] - 2s 11ms/step - loss: 0.6426 - mae: 0.5201 - val_loss: 2.0587 - val_mae: 0.8218\n",
      "Epoch 123/250\n",
      "188/188 [==============================] - 2s 11ms/step - loss: 0.6150 - mae: 0.5129 - val_loss: 2.0082 - val_mae: 0.8169\n",
      "Epoch 124/250\n",
      "188/188 [==============================] - 2s 11ms/step - loss: 0.6602 - mae: 0.5303 - val_loss: 2.1084 - val_mae: 0.8155\n",
      "Epoch 125/250\n",
      "188/188 [==============================] - 2s 11ms/step - loss: 0.6747 - mae: 0.5357 - val_loss: 2.0620 - val_mae: 0.8215\n",
      "Epoch 126/250\n",
      "188/188 [==============================] - 2s 11ms/step - loss: 0.6300 - mae: 0.5128 - val_loss: 2.0202 - val_mae: 0.8208\n",
      "Epoch 127/250\n",
      "188/188 [==============================] - 2s 11ms/step - loss: 0.6132 - mae: 0.5083 - val_loss: 2.0852 - val_mae: 0.8177\n",
      "Epoch 128/250\n",
      "188/188 [==============================] - 2s 11ms/step - loss: 0.5996 - mae: 0.5005 - val_loss: 2.0888 - val_mae: 0.8459\n",
      "Epoch 129/250\n",
      "188/188 [==============================] - 2s 11ms/step - loss: 0.6107 - mae: 0.5126 - val_loss: 2.0390 - val_mae: 0.8136\n",
      "Epoch 130/250\n",
      "188/188 [==============================] - 2s 11ms/step - loss: 0.5903 - mae: 0.4965 - val_loss: 2.1297 - val_mae: 0.8375\n",
      "Epoch 131/250\n",
      "188/188 [==============================] - 2s 11ms/step - loss: 0.7075 - mae: 0.5423 - val_loss: 2.0740 - val_mae: 0.8359\n",
      "Epoch 132/250\n",
      "188/188 [==============================] - 2s 11ms/step - loss: 0.6377 - mae: 0.5203 - val_loss: 2.0271 - val_mae: 0.8200\n",
      "Epoch 133/250\n",
      "188/188 [==============================] - 2s 11ms/step - loss: 0.6297 - mae: 0.5210 - val_loss: 1.9106 - val_mae: 0.8103\n",
      "Epoch 134/250\n",
      "188/188 [==============================] - 2s 11ms/step - loss: 0.5972 - mae: 0.4989 - val_loss: 2.1830 - val_mae: 0.8443\n",
      "Epoch 135/250\n",
      "188/188 [==============================] - 2s 11ms/step - loss: 0.5975 - mae: 0.5031 - val_loss: 2.0959 - val_mae: 0.8436\n",
      "Epoch 136/250\n",
      "188/188 [==============================] - 2s 11ms/step - loss: 0.6113 - mae: 0.5059 - val_loss: 2.0535 - val_mae: 0.8391\n",
      "Epoch 137/250\n",
      "188/188 [==============================] - 2s 12ms/step - loss: 0.6106 - mae: 0.5061 - val_loss: 2.1361 - val_mae: 0.8353\n",
      "Epoch 138/250\n",
      "188/188 [==============================] - 2s 12ms/step - loss: 0.6582 - mae: 0.5247 - val_loss: 2.0961 - val_mae: 0.8270\n",
      "Epoch 139/250\n",
      "188/188 [==============================] - 2s 11ms/step - loss: 0.6007 - mae: 0.5025 - val_loss: 2.1092 - val_mae: 0.8374\n",
      "Epoch 140/250\n",
      "188/188 [==============================] - 2s 11ms/step - loss: 0.5903 - mae: 0.4982 - val_loss: 2.1952 - val_mae: 0.8464\n",
      "Epoch 141/250\n",
      "188/188 [==============================] - 2s 11ms/step - loss: 0.6038 - mae: 0.5016 - val_loss: 2.0714 - val_mae: 0.8284\n",
      "Epoch 142/250\n",
      "188/188 [==============================] - 2s 11ms/step - loss: 0.6314 - mae: 0.5145 - val_loss: 2.0972 - val_mae: 0.8267\n",
      "Epoch 143/250\n",
      "188/188 [==============================] - 2s 11ms/step - loss: 0.5942 - mae: 0.5002 - val_loss: 2.0841 - val_mae: 0.8283\n",
      "Epoch 144/250\n",
      "188/188 [==============================] - 2s 11ms/step - loss: 0.6035 - mae: 0.5079 - val_loss: 2.1218 - val_mae: 0.8345\n",
      "Epoch 145/250\n",
      "188/188 [==============================] - 2s 11ms/step - loss: 0.5706 - mae: 0.4916 - val_loss: 2.1207 - val_mae: 0.8292\n",
      "Epoch 146/250\n",
      "188/188 [==============================] - 2s 12ms/step - loss: 0.5660 - mae: 0.4849 - val_loss: 2.0923 - val_mae: 0.8271\n",
      "Epoch 147/250\n",
      "188/188 [==============================] - 2s 11ms/step - loss: 0.5984 - mae: 0.4993 - val_loss: 2.0677 - val_mae: 0.8298\n",
      "Epoch 148/250\n",
      "188/188 [==============================] - 2s 11ms/step - loss: 0.5892 - mae: 0.4965 - val_loss: 2.2777 - val_mae: 0.8584\n",
      "Epoch 149/250\n",
      "188/188 [==============================] - 2s 11ms/step - loss: 0.6483 - mae: 0.5188 - val_loss: 2.0365 - val_mae: 0.8161\n",
      "Epoch 150/250\n",
      "188/188 [==============================] - 2s 11ms/step - loss: 0.6073 - mae: 0.5053 - val_loss: 2.1672 - val_mae: 0.8393\n",
      "Epoch 151/250\n",
      "188/188 [==============================] - 2s 11ms/step - loss: 0.5782 - mae: 0.4943 - val_loss: 2.0135 - val_mae: 0.8252\n",
      "Epoch 152/250\n",
      "188/188 [==============================] - 2s 11ms/step - loss: 0.5710 - mae: 0.4921 - val_loss: 2.2769 - val_mae: 0.8448\n",
      "Epoch 153/250\n",
      "188/188 [==============================] - 2s 11ms/step - loss: 0.5596 - mae: 0.4860 - val_loss: 2.1687 - val_mae: 0.8423\n",
      "Epoch 154/250\n",
      "188/188 [==============================] - 2s 12ms/step - loss: 0.5680 - mae: 0.4918 - val_loss: 2.0944 - val_mae: 0.8445\n",
      "Epoch 155/250\n",
      "188/188 [==============================] - 2s 11ms/step - loss: 0.6149 - mae: 0.5048 - val_loss: 2.1927 - val_mae: 0.8414\n",
      "Epoch 156/250\n",
      "188/188 [==============================] - 2s 11ms/step - loss: 0.5789 - mae: 0.4928 - val_loss: 2.0896 - val_mae: 0.8245\n",
      "Epoch 157/250\n",
      "188/188 [==============================] - 2s 11ms/step - loss: 0.5777 - mae: 0.4896 - val_loss: 2.2863 - val_mae: 0.8827\n",
      "Epoch 158/250\n",
      "188/188 [==============================] - 2s 11ms/step - loss: 0.5965 - mae: 0.5028 - val_loss: 2.0661 - val_mae: 0.8293\n",
      "Epoch 159/250\n",
      "188/188 [==============================] - 2s 11ms/step - loss: 0.5744 - mae: 0.4877 - val_loss: 2.3304 - val_mae: 0.8652\n",
      "Epoch 160/250\n",
      "188/188 [==============================] - 2s 11ms/step - loss: 0.5678 - mae: 0.4837 - val_loss: 2.0928 - val_mae: 0.8381\n",
      "Epoch 161/250\n",
      "188/188 [==============================] - 2s 11ms/step - loss: 0.5721 - mae: 0.4869 - val_loss: 2.2627 - val_mae: 0.8654\n",
      "Epoch 162/250\n",
      "188/188 [==============================] - 2s 11ms/step - loss: 0.5574 - mae: 0.4798 - val_loss: 2.1745 - val_mae: 0.8395\n",
      "Epoch 163/250\n",
      "188/188 [==============================] - 2s 12ms/step - loss: 0.5548 - mae: 0.4789 - val_loss: 2.1148 - val_mae: 0.8389\n",
      "Epoch 164/250\n",
      "188/188 [==============================] - 2s 11ms/step - loss: 0.5419 - mae: 0.4777 - val_loss: 2.3348 - val_mae: 0.8615\n",
      "Epoch 165/250\n",
      "188/188 [==============================] - 2s 11ms/step - loss: 0.5906 - mae: 0.4967 - val_loss: 2.1472 - val_mae: 0.8414\n",
      "Epoch 166/250\n",
      "188/188 [==============================] - 2s 11ms/step - loss: 0.5542 - mae: 0.4815 - val_loss: 2.1796 - val_mae: 0.8312\n",
      "Epoch 167/250\n",
      "188/188 [==============================] - 2s 11ms/step - loss: 0.5588 - mae: 0.4845 - val_loss: 2.2294 - val_mae: 0.8554\n",
      "Epoch 168/250\n",
      "188/188 [==============================] - 2s 11ms/step - loss: 0.5452 - mae: 0.4781 - val_loss: 2.2550 - val_mae: 0.8450\n",
      "Epoch 169/250\n",
      "188/188 [==============================] - 2s 12ms/step - loss: 0.5397 - mae: 0.4761 - val_loss: 2.1898 - val_mae: 0.8392\n",
      "Epoch 170/250\n",
      "188/188 [==============================] - 2s 11ms/step - loss: 0.5450 - mae: 0.4762 - val_loss: 2.2698 - val_mae: 0.8550\n",
      "Epoch 171/250\n",
      "188/188 [==============================] - 2s 10ms/step - loss: 0.5494 - mae: 0.4805 - val_loss: 2.1584 - val_mae: 0.8406\n",
      "Epoch 172/250\n",
      "188/188 [==============================] - 2s 11ms/step - loss: 0.6120 - mae: 0.5010 - val_loss: 2.1874 - val_mae: 0.8411\n",
      "Epoch 173/250\n",
      "188/188 [==============================] - 2s 11ms/step - loss: 0.5453 - mae: 0.4812 - val_loss: 2.2911 - val_mae: 0.8563\n",
      "Epoch 174/250\n",
      "188/188 [==============================] - 2s 11ms/step - loss: 0.5497 - mae: 0.4774 - val_loss: 2.3337 - val_mae: 0.8514\n",
      "Epoch 175/250\n",
      "188/188 [==============================] - 2s 11ms/step - loss: 0.5527 - mae: 0.4827 - val_loss: 2.2481 - val_mae: 0.8613\n",
      "Epoch 176/250\n",
      "188/188 [==============================] - 2s 11ms/step - loss: 0.5422 - mae: 0.4738 - val_loss: 2.3456 - val_mae: 0.8506\n",
      "Epoch 177/250\n",
      "188/188 [==============================] - 2s 12ms/step - loss: 0.7353 - mae: 0.5493 - val_loss: 2.2179 - val_mae: 0.8579\n",
      "Epoch 178/250\n",
      "188/188 [==============================] - 2s 11ms/step - loss: 0.5836 - mae: 0.4921 - val_loss: 2.1770 - val_mae: 0.8533\n",
      "Epoch 179/250\n",
      "188/188 [==============================] - 2s 11ms/step - loss: 0.5347 - mae: 0.4694 - val_loss: 2.3026 - val_mae: 0.8456\n",
      "Epoch 180/250\n",
      "188/188 [==============================] - 2s 11ms/step - loss: 0.5314 - mae: 0.4684 - val_loss: 2.1112 - val_mae: 0.8552\n",
      "Epoch 181/250\n",
      "188/188 [==============================] - 2s 11ms/step - loss: 0.5667 - mae: 0.4831 - val_loss: 2.1851 - val_mae: 0.8408\n",
      "Epoch 182/250\n",
      "188/188 [==============================] - 2s 11ms/step - loss: 0.5437 - mae: 0.4718 - val_loss: 2.1183 - val_mae: 0.8411\n",
      "Epoch 183/250\n",
      "188/188 [==============================] - 2s 11ms/step - loss: 0.5435 - mae: 0.4748 - val_loss: 2.2569 - val_mae: 0.8492\n",
      "Epoch 184/250\n",
      "188/188 [==============================] - 2s 11ms/step - loss: 0.5207 - mae: 0.4664 - val_loss: 2.1521 - val_mae: 0.8381\n",
      "Epoch 185/250\n",
      "188/188 [==============================] - 2s 11ms/step - loss: 0.5161 - mae: 0.4625 - val_loss: 2.2095 - val_mae: 0.8605\n",
      "Epoch 186/250\n",
      "188/188 [==============================] - 2s 11ms/step - loss: 0.5385 - mae: 0.4709 - val_loss: 2.1779 - val_mae: 0.8587\n",
      "Epoch 187/250\n",
      "188/188 [==============================] - 2s 11ms/step - loss: 0.5231 - mae: 0.4671 - val_loss: 2.0693 - val_mae: 0.8379\n",
      "Epoch 188/250\n",
      "188/188 [==============================] - 2s 11ms/step - loss: 0.5203 - mae: 0.4672 - val_loss: 2.2714 - val_mae: 0.8513\n",
      "Epoch 189/250\n",
      "188/188 [==============================] - 2s 11ms/step - loss: 0.5349 - mae: 0.4699 - val_loss: 2.3898 - val_mae: 0.9036\n",
      "Epoch 190/250\n",
      "188/188 [==============================] - 2s 11ms/step - loss: 0.5390 - mae: 0.4703 - val_loss: 2.0721 - val_mae: 0.8445\n",
      "Epoch 191/250\n",
      "188/188 [==============================] - 2s 11ms/step - loss: 0.5197 - mae: 0.4669 - val_loss: 2.3286 - val_mae: 0.8530\n",
      "Epoch 192/250\n",
      "188/188 [==============================] - 2s 11ms/step - loss: 0.5394 - mae: 0.4698 - val_loss: 2.2039 - val_mae: 0.8516\n",
      "Epoch 193/250\n",
      "188/188 [==============================] - 2s 11ms/step - loss: 0.5499 - mae: 0.4753 - val_loss: 2.3169 - val_mae: 0.8827\n",
      "Epoch 194/250\n",
      "188/188 [==============================] - 2s 11ms/step - loss: 0.5445 - mae: 0.4777 - val_loss: 2.3298 - val_mae: 0.8645\n",
      "Epoch 195/250\n",
      "188/188 [==============================] - 2s 11ms/step - loss: 0.5067 - mae: 0.4576 - val_loss: 2.1908 - val_mae: 0.8503\n",
      "Epoch 196/250\n",
      "188/188 [==============================] - 2s 11ms/step - loss: 0.5331 - mae: 0.4716 - val_loss: 2.2578 - val_mae: 0.8597\n",
      "Epoch 197/250\n",
      "188/188 [==============================] - 2s 11ms/step - loss: 0.5081 - mae: 0.4553 - val_loss: 2.2421 - val_mae: 0.8554\n",
      "Epoch 198/250\n",
      "188/188 [==============================] - 2s 11ms/step - loss: 0.5570 - mae: 0.4795 - val_loss: 2.2245 - val_mae: 0.8516\n",
      "Epoch 199/250\n",
      "188/188 [==============================] - 2s 11ms/step - loss: 0.5241 - mae: 0.4657 - val_loss: 2.1865 - val_mae: 0.8417\n",
      "Epoch 200/250\n",
      "188/188 [==============================] - 2s 11ms/step - loss: 0.5183 - mae: 0.4666 - val_loss: 2.3794 - val_mae: 0.8696\n",
      "Epoch 201/250\n",
      "188/188 [==============================] - 2s 11ms/step - loss: 0.5011 - mae: 0.4537 - val_loss: 2.3442 - val_mae: 0.8656\n",
      "Epoch 202/250\n",
      "188/188 [==============================] - 2s 11ms/step - loss: 0.6109 - mae: 0.5021 - val_loss: 2.3175 - val_mae: 0.8467\n",
      "Epoch 203/250\n",
      "188/188 [==============================] - 2s 11ms/step - loss: 0.5254 - mae: 0.4678 - val_loss: 2.2227 - val_mae: 0.8729\n",
      "Epoch 204/250\n",
      "188/188 [==============================] - 2s 11ms/step - loss: 0.5135 - mae: 0.4608 - val_loss: 2.1743 - val_mae: 0.8442\n",
      "Epoch 205/250\n",
      "188/188 [==============================] - 2s 11ms/step - loss: 0.4921 - mae: 0.4512 - val_loss: 2.2785 - val_mae: 0.8546\n",
      "Epoch 206/250\n",
      "188/188 [==============================] - 2s 11ms/step - loss: 0.5219 - mae: 0.4648 - val_loss: 2.1163 - val_mae: 0.8376\n",
      "Epoch 207/250\n",
      "188/188 [==============================] - 2s 11ms/step - loss: 0.5204 - mae: 0.4632 - val_loss: 2.3447 - val_mae: 0.8849\n",
      "Epoch 208/250\n",
      "188/188 [==============================] - 2s 11ms/step - loss: 0.5595 - mae: 0.4822 - val_loss: 2.1575 - val_mae: 0.8513\n",
      "Epoch 209/250\n",
      "188/188 [==============================] - 2s 11ms/step - loss: 0.5983 - mae: 0.4965 - val_loss: 2.2211 - val_mae: 0.8443\n",
      "Epoch 210/250\n",
      "188/188 [==============================] - 2s 11ms/step - loss: 0.5375 - mae: 0.4709 - val_loss: 2.0543 - val_mae: 0.8319\n",
      "Epoch 211/250\n",
      "188/188 [==============================] - 2s 11ms/step - loss: 0.5095 - mae: 0.4564 - val_loss: 2.2413 - val_mae: 0.8569\n",
      "Epoch 212/250\n",
      "188/188 [==============================] - 2s 11ms/step - loss: 0.4902 - mae: 0.4460 - val_loss: 2.3378 - val_mae: 0.8854\n",
      "Epoch 213/250\n",
      "188/188 [==============================] - 2s 11ms/step - loss: 0.5314 - mae: 0.4697 - val_loss: 2.2224 - val_mae: 0.8709\n",
      "Epoch 214/250\n",
      "188/188 [==============================] - 2s 11ms/step - loss: 0.5031 - mae: 0.4538 - val_loss: 2.1384 - val_mae: 0.8471\n",
      "Epoch 215/250\n",
      "188/188 [==============================] - 2s 11ms/step - loss: 0.4911 - mae: 0.4513 - val_loss: 2.2418 - val_mae: 0.8542\n",
      "Epoch 216/250\n",
      "188/188 [==============================] - 2s 11ms/step - loss: 0.5052 - mae: 0.4586 - val_loss: 2.3236 - val_mae: 0.8525\n",
      "Epoch 217/250\n",
      "188/188 [==============================] - 2s 11ms/step - loss: 0.5079 - mae: 0.4571 - val_loss: 2.1985 - val_mae: 0.8581\n",
      "Epoch 218/250\n",
      "188/188 [==============================] - 2s 11ms/step - loss: 0.5635 - mae: 0.4828 - val_loss: 2.2034 - val_mae: 0.8464\n",
      "Epoch 219/250\n",
      "188/188 [==============================] - 2s 11ms/step - loss: 0.5262 - mae: 0.4681 - val_loss: 2.2528 - val_mae: 0.8463\n",
      "Epoch 220/250\n",
      "188/188 [==============================] - 2s 11ms/step - loss: 0.4984 - mae: 0.4544 - val_loss: 2.1106 - val_mae: 0.8453\n",
      "Epoch 221/250\n",
      "188/188 [==============================] - 2s 11ms/step - loss: 0.4853 - mae: 0.4465 - val_loss: 2.1550 - val_mae: 0.8415\n",
      "Epoch 222/250\n",
      "188/188 [==============================] - 2s 11ms/step - loss: 0.4933 - mae: 0.4504 - val_loss: 2.3051 - val_mae: 0.8663\n",
      "Epoch 223/250\n",
      "188/188 [==============================] - 2s 11ms/step - loss: 0.5053 - mae: 0.4559 - val_loss: 2.2170 - val_mae: 0.8638\n",
      "Epoch 224/250\n",
      "188/188 [==============================] - 2s 11ms/step - loss: 0.5162 - mae: 0.4635 - val_loss: 2.3057 - val_mae: 0.8704\n",
      "Epoch 225/250\n",
      "188/188 [==============================] - 2s 11ms/step - loss: 0.5054 - mae: 0.4563 - val_loss: 2.4462 - val_mae: 0.8674\n",
      "Epoch 226/250\n",
      "188/188 [==============================] - 2s 11ms/step - loss: 0.8715 - mae: 0.5609 - val_loss: 2.2549 - val_mae: 0.8663\n",
      "Epoch 227/250\n",
      "188/188 [==============================] - 2s 11ms/step - loss: 0.5482 - mae: 0.4703 - val_loss: 2.1448 - val_mae: 0.8468\n",
      "Epoch 228/250\n",
      "188/188 [==============================] - 2s 11ms/step - loss: 0.4788 - mae: 0.4435 - val_loss: 2.2360 - val_mae: 0.8531\n",
      "Epoch 229/250\n",
      "188/188 [==============================] - 2s 11ms/step - loss: 0.4623 - mae: 0.4329 - val_loss: 2.1716 - val_mae: 0.8389\n",
      "Epoch 230/250\n",
      "188/188 [==============================] - 2s 11ms/step - loss: 0.4885 - mae: 0.4487 - val_loss: 2.1457 - val_mae: 0.8395\n",
      "Epoch 231/250\n",
      "188/188 [==============================] - 2s 11ms/step - loss: 0.4647 - mae: 0.4346 - val_loss: 2.2211 - val_mae: 0.8503\n",
      "Epoch 232/250\n",
      "188/188 [==============================] - 2s 11ms/step - loss: 0.4801 - mae: 0.4426 - val_loss: 2.1483 - val_mae: 0.8472\n",
      "Epoch 233/250\n",
      "188/188 [==============================] - 2s 11ms/step - loss: 0.4958 - mae: 0.4496 - val_loss: 2.2308 - val_mae: 0.8576\n",
      "Epoch 234/250\n",
      "188/188 [==============================] - 2s 11ms/step - loss: 0.4981 - mae: 0.4538 - val_loss: 2.2384 - val_mae: 0.8552\n",
      "Epoch 235/250\n",
      "188/188 [==============================] - 2s 11ms/step - loss: 0.4958 - mae: 0.4507 - val_loss: 2.2697 - val_mae: 0.8584\n",
      "Epoch 236/250\n",
      "188/188 [==============================] - 2s 11ms/step - loss: 0.4949 - mae: 0.4527 - val_loss: 2.3275 - val_mae: 0.8673\n",
      "Epoch 237/250\n",
      "188/188 [==============================] - 2s 11ms/step - loss: 0.4995 - mae: 0.4514 - val_loss: 2.3491 - val_mae: 0.8719\n",
      "Epoch 238/250\n",
      "188/188 [==============================] - 2s 11ms/step - loss: 0.5223 - mae: 0.4636 - val_loss: 2.1862 - val_mae: 0.8418\n",
      "Epoch 239/250\n",
      "188/188 [==============================] - 2s 11ms/step - loss: 0.4618 - mae: 0.4357 - val_loss: 2.2231 - val_mae: 0.8611\n",
      "Epoch 240/250\n",
      "188/188 [==============================] - 2s 11ms/step - loss: 0.4572 - mae: 0.4315 - val_loss: 2.2421 - val_mae: 0.8509\n",
      "Epoch 241/250\n",
      "188/188 [==============================] - 2s 11ms/step - loss: 0.5109 - mae: 0.4588 - val_loss: 2.2463 - val_mae: 0.8512\n",
      "Epoch 242/250\n",
      "188/188 [==============================] - 2s 11ms/step - loss: 0.4993 - mae: 0.4525 - val_loss: 2.3066 - val_mae: 0.8687\n",
      "Epoch 243/250\n",
      "188/188 [==============================] - 2s 11ms/step - loss: 0.4749 - mae: 0.4431 - val_loss: 2.2166 - val_mae: 0.8554\n",
      "Epoch 244/250\n",
      "188/188 [==============================] - 2s 11ms/step - loss: 0.5005 - mae: 0.4503 - val_loss: 2.1777 - val_mae: 0.8368\n",
      "Epoch 245/250\n",
      "188/188 [==============================] - 2s 11ms/step - loss: 0.4761 - mae: 0.4433 - val_loss: 2.2146 - val_mae: 0.8492\n",
      "Epoch 246/250\n",
      "188/188 [==============================] - 2s 11ms/step - loss: 0.4801 - mae: 0.4421 - val_loss: 2.3475 - val_mae: 0.8616\n",
      "Epoch 247/250\n",
      "188/188 [==============================] - 2s 11ms/step - loss: 0.4911 - mae: 0.4505 - val_loss: 2.2908 - val_mae: 0.8683\n",
      "Epoch 248/250\n",
      "188/188 [==============================] - 2s 11ms/step - loss: 0.5135 - mae: 0.4614 - val_loss: 2.3626 - val_mae: 0.8676\n",
      "Epoch 249/250\n",
      "188/188 [==============================] - 2s 11ms/step - loss: 0.5290 - mae: 0.4630 - val_loss: 2.2152 - val_mae: 0.8547\n",
      "Epoch 250/250\n",
      "188/188 [==============================] - 2s 10ms/step - loss: 0.4697 - mae: 0.4385 - val_loss: 2.4007 - val_mae: 0.8655\n"
     ]
    }
   ],
   "source": [
    "val_features_dict = {name: np.array(value)\n",
    "                         for name, value in val.items()}\n",
    "history_1 = housePrices_model.fit(x=housePrices_features_dict, y=housePrices_labels,epochs=250,\n",
    "                        validation_data=(val_features_dict, val_labels))"
   ]
  },
  {
   "cell_type": "markdown",
   "metadata": {
    "id": "PxDJzn1LtK0c"
   },
   "source": [
    "It is crucial to visualise the metrics produced during training; this will quickly indicate how quickly the model converges, potential issues of under and overfitting."
   ]
  },
  {
   "cell_type": "code",
   "execution_count": 27,
   "metadata": {
    "colab": {
     "base_uri": "https://localhost:8080/",
     "height": 573
    },
    "id": "v52vc1fw49Um",
    "outputId": "4afc78c8-a765-403a-9faa-4b4546ad49c6"
   },
   "outputs": [
    {
     "data": {
      "image/png": "[encoded data removed]",
      "text/plain": [
       "<Figure size 640x480 with 1 Axes>"
      ]
     },
     "metadata": {},
     "output_type": "display_data"
    },
    {
     "data": {
      "image/png": "[encoded data removed]",
      "text/plain": [
       "<Figure size 640x480 with 1 Axes>"
      ]
     },
     "metadata": {},
     "output_type": "display_data"
    }
   ],
   "source": [
    "# Draw a graph of the loss, which is the distance between\n",
    "# the predicted and actual values during training and validation.\n",
    "import matplotlib.pyplot as plt\n",
    "train_loss = history_1.history['mae']\n",
    "val_loss = history_1.history['mae']\n",
    "epochs = range(1, len(train_loss) + 1)\n",
    "\n",
    "plt.plot(epochs, train_loss, 'g.', label='Training loss')\n",
    "plt.plot(epochs, val_loss, 'b', label='Validation loss')\n",
    "plt.title('Training and validation loss')\n",
    "plt.xlabel('Epochs')\n",
    "plt.ylabel('Loss')\n",
    "plt.legend()\n",
    "plt.show()\n",
    "\n",
    "# Exclude the first few epochs so the graph is easier to read\n",
    "SKIP = 20\n",
    "\n",
    "plt.plot(epochs[SKIP:], train_loss[SKIP:], 'g.', label='Training loss')\n",
    "plt.plot(epochs[SKIP:], val_loss[SKIP:], 'b.', label='Validation loss')\n",
    "plt.title('Training and validation loss')\n",
    "plt.xlabel('Epochs')\n",
    "plt.ylabel('Loss')\n",
    "plt.legend()\n",
    "plt.show()"
   ]
  },
  {
   "cell_type": "markdown",
   "metadata": {
    "id": "LxgJarZk3bfH"
   },
   "source": [
    "By implementing pre-processing as part of the model, we can now save the model and deploy it elsewhere as a simple package."
   ]
  },
  {
   "cell_type": "code",
   "execution_count": 28,
   "metadata": {},
   "outputs": [],
   "source": [
    "# Saving Model"
   ]
  },
  {
   "cell_type": "code",
   "execution_count": 29,
   "metadata": {},
   "outputs": [],
   "source": [
    "housePrices_model.save('test.h5')"
   ]
  },
  {
   "cell_type": "code",
   "execution_count": 30,
   "metadata": {
    "id": "Ay-8ymNA2ZCh"
   },
   "outputs": [],
   "source": [
    "reloaded = tf.keras.models.load_model('test.h5')"
   ]
  },
  {
   "cell_type": "code",
   "execution_count": null,
   "metadata": {
    "id": "ojBbrVDFYnnR"
   },
   "outputs": [],
   "source": [
    "! zip -r test.zip test"
   ]
  },
  {
   "cell_type": "code",
   "execution_count": 31,
   "metadata": {
    "id": "Qm6jMTpD20lK"
   },
   "outputs": [
    {
     "name": "stdout",
     "output_type": "stream",
     "text": [
      "tf.Tensor([[2.092]], shape=(1, 1), dtype=float32)\n",
      "tf.Tensor([[2.092]], shape=(1, 1), dtype=float32)\n"
     ]
    }
   ],
   "source": [
    "features_dict = {name:values[:1] for name, values in housePrices_features_dict.items()}\n",
    "\n",
    "before = housePrices_model(features_dict)\n",
    "after = reloaded(features_dict)\n",
    "assert (before-after)<1e-3\n",
    "print(before)\n",
    "print(after)"
   ]
  },
  {
   "cell_type": "markdown",
   "metadata": {
    "id": "WA-S29Bfu7BF"
   },
   "source": [
    "Finally, we can run predictions on our own data."
   ]
  },
  {
   "cell_type": "code",
   "execution_count": 32,
   "metadata": {
    "colab": {
     "base_uri": "https://localhost:8080/"
    },
    "id": "pLOZuDVtNIow",
    "outputId": "8540bac1-c30f-4e7f-852c-7880b25dffd7"
   },
   "outputs": [
    {
     "name": "stdout",
     "output_type": "stream",
     "text": [
      "1/1 [==============================] - 0s 268ms/step\n",
      "[[14.554]\n",
      " [ 3.946]\n",
      " [ 3.435]\n",
      " [ 3.391]\n",
      " [ 4.035]]\n"
     ]
    }
   ],
   "source": [
    "\n",
    "\n",
    "houseData_own2 = {'Type': np.array(['SFH', 'SFH', 'SFH', 'Condo', 'Condo']),\n",
    "  'houseEra': np.array(['recent', '19A', '20A', '20A', '19B']),\n",
    "\t'Area': np.array([8410, 1400, 1500, 1500, 1600]),\n",
    "  'Zip': np.array(['60062', '60062', '60076', '60076', '60202']),\n",
    "\t'Rooms': np.array([16, 6, 7, 7, 7]),\n",
    "  'FullBaths': np.array([6.0, 2.0, 2.0, 2.5, 2.0]),\n",
    "  'HalfBaths': np.array([0.0, 1.0, 1.0, 0.0, 0.0]),\n",
    "  'BsmtBth': np.array(['Yes', 'No', 'No', 'No', 'No']),\n",
    "  'Beds': np.array([5, 3, 3, 3, 3]),\n",
    "  'BsmtBeds': np.array([1.0, 0.0, 0.0, 0.0, 0.0]),\n",
    "  'GarageSpaces': np.array([3, 2, 0, 0, 0])  }\n",
    "\n",
    "ans = reloaded.predict(houseData_own2)\n",
    "\n",
    "print(ans)\n",
    "\n"
   ]
  }
 ],
 "metadata": {
  "colab": {
   "history_visible": true,
   "name": "housePricePrediction2.ipynb",
   "provenance": [],
   "toc_visible": true
  },
  "kernelspec": {
   "display_name": "Python 3 (ipykernel)",
   "language": "python",
   "name": "python3"
  },
  "language_info": {
   "codemirror_mode": {
    "name": "ipython",
    "version": 3
   },
   "file_extension": ".py",
   "mimetype": "text/x-python",
   "name": "python",
   "nbconvert_exporter": "python",
   "pygments_lexer": "ipython3",
   "version": "3.10.14"
  }
 },
 "nbformat": 4,
 "nbformat_minor": 4
}
