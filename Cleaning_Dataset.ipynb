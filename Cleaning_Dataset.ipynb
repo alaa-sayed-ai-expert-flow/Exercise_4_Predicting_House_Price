{
 "cells": [
  {
   "cell_type": "markdown",
   "metadata": {
    "id": "fgZ9gjmPfSnK"
   },
   "source": [
    "## Importing Packages"
   ]
  },
  {
   "cell_type": "code",
   "execution_count": 2,
   "metadata": {
    "id": "baYFZMW_bJHh"
   },
   "outputs": [],
   "source": [
    "import pandas as pd\n",
    "import numpy as np\n",
    "\n",
    "# Make numpy values easier to read.\n",
    "np.set_printoptions(precision=3, suppress=True)\n",
    "\n",
    "import tensorflow as tf\n",
    "from tensorflow.keras import layers\n",
    "from tensorflow.keras.layers.experimental import preprocessing\n",
    "from tensorflow.keras import regularizers\n",
    "#from sklearn import preprocessing\n",
    "from sklearn.model_selection import train_test_split"
   ]
  },
  {
   "cell_type": "markdown",
   "metadata": {
    "id": "B87Rd1SOUv02"
   },
   "source": [
    "## Loading data from a .csv"
   ]
  },
  {
   "cell_type": "code",
   "execution_count": 3,
   "metadata": {
    "colab": {
     "base_uri": "https://localhost:8080/",
     "height": 226
    },
    "id": "GS-dBMpuYMnz",
    "outputId": "9d60321b-6130-4f5d-8216-a6a4fee19ca0"
   },
   "outputs": [
    {
     "data": {
      "text/html": [
       "<div>\n",
       "<style scoped>\n",
       "    .dataframe tbody tr th:only-of-type {\n",
       "        vertical-align: middle;\n",
       "    }\n",
       "\n",
       "    .dataframe tbody tr th {\n",
       "        vertical-align: top;\n",
       "    }\n",
       "\n",
       "    .dataframe thead th {\n",
       "        text-align: right;\n",
       "    }\n",
       "</style>\n",
       "<table border=\"1\" class=\"dataframe\">\n",
       "  <thead>\n",
       "    <tr style=\"text-align: right;\">\n",
       "      <th></th>\n",
       "      <th>SoldPr</th>\n",
       "      <th>Type</th>\n",
       "      <th>Zip</th>\n",
       "      <th>Area</th>\n",
       "      <th>Rooms</th>\n",
       "      <th>FullBaths</th>\n",
       "      <th>HalfBaths</th>\n",
       "      <th>BsmtBth</th>\n",
       "      <th>Beds</th>\n",
       "      <th>BsmtBeds</th>\n",
       "      <th>GarageSpaces</th>\n",
       "      <th>houseEra</th>\n",
       "    </tr>\n",
       "  </thead>\n",
       "  <tbody>\n",
       "    <tr>\n",
       "      <th>6267</th>\n",
       "      <td>558407.187500</td>\n",
       "      <td>SFH</td>\n",
       "      <td>60201</td>\n",
       "      <td>1722</td>\n",
       "      <td>8</td>\n",
       "      <td>2</td>\n",
       "      <td>1</td>\n",
       "      <td>Yes</td>\n",
       "      <td>4.0</td>\n",
       "      <td>0</td>\n",
       "      <td>0.0</td>\n",
       "      <td>19B</td>\n",
       "    </tr>\n",
       "    <tr>\n",
       "      <th>7161</th>\n",
       "      <td>183859.375000</td>\n",
       "      <td>Condo</td>\n",
       "      <td>60025</td>\n",
       "      <td>1100</td>\n",
       "      <td>5</td>\n",
       "      <td>2</td>\n",
       "      <td>0</td>\n",
       "      <td>No</td>\n",
       "      <td>2.0</td>\n",
       "      <td>0</td>\n",
       "      <td>0.0</td>\n",
       "      <td>19A</td>\n",
       "    </tr>\n",
       "    <tr>\n",
       "      <th>8934</th>\n",
       "      <td>152340.625000</td>\n",
       "      <td>Condo</td>\n",
       "      <td>60025</td>\n",
       "      <td>875</td>\n",
       "      <td>5</td>\n",
       "      <td>1</td>\n",
       "      <td>0</td>\n",
       "      <td>No</td>\n",
       "      <td>2.0</td>\n",
       "      <td>0</td>\n",
       "      <td>2.0</td>\n",
       "      <td>19A</td>\n",
       "    </tr>\n",
       "    <tr>\n",
       "      <th>3970</th>\n",
       "      <td>629173.347656</td>\n",
       "      <td>SFH</td>\n",
       "      <td>60062</td>\n",
       "      <td>3042</td>\n",
       "      <td>13</td>\n",
       "      <td>3</td>\n",
       "      <td>2</td>\n",
       "      <td>Yes</td>\n",
       "      <td>4.0</td>\n",
       "      <td>1</td>\n",
       "      <td>2.5</td>\n",
       "      <td>19A</td>\n",
       "    </tr>\n",
       "    <tr>\n",
       "      <th>4373</th>\n",
       "      <td>298029.480469</td>\n",
       "      <td>SFH</td>\n",
       "      <td>60076</td>\n",
       "      <td>1373</td>\n",
       "      <td>7</td>\n",
       "      <td>2</td>\n",
       "      <td>0</td>\n",
       "      <td>Yes</td>\n",
       "      <td>3.0</td>\n",
       "      <td>0</td>\n",
       "      <td>2.0</td>\n",
       "      <td>19A</td>\n",
       "    </tr>\n",
       "  </tbody>\n",
       "</table>\n",
       "</div>"
      ],
      "text/plain": [
       "             SoldPr   Type    Zip  Area  Rooms  FullBaths  HalfBaths BsmtBth  \\\n",
       "6267  558407.187500    SFH  60201  1722      8          2          1     Yes   \n",
       "7161  183859.375000  Condo  60025  1100      5          2          0      No   \n",
       "8934  152340.625000  Condo  60025   875      5          1          0      No   \n",
       "3970  629173.347656    SFH  60062  3042     13          3          2     Yes   \n",
       "4373  298029.480469    SFH  60076  1373      7          2          0     Yes   \n",
       "\n",
       "      Beds  BsmtBeds  GarageSpaces houseEra  \n",
       "6267   4.0         0           0.0      19B  \n",
       "7161   2.0         0           0.0      19A  \n",
       "8934   2.0         0           2.0      19A  \n",
       "3970   4.0         1           2.5      19A  \n",
       "4373   3.0         0           2.0      19A  "
      ]
     },
     "execution_count": 3,
     "metadata": {},
     "output_type": "execute_result"
    }
   ],
   "source": [
    "url=\"https://junwin.github.io/data/housepriceclean2.csv\"\n",
    "housePrices=pd.read_csv(url).sample(frac=1)\n",
    "housePrices.pop('ClosedDate')\n",
    "housePrices.head()"
   ]
  },
  {
   "cell_type": "code",
   "execution_count": 3,
   "metadata": {},
   "outputs": [
    {
     "data": {
      "text/plain": [
       "SoldPr          float64\n",
       "Type             object\n",
       "Zip               int64\n",
       "Area              int64\n",
       "Rooms             int64\n",
       "FullBaths         int64\n",
       "HalfBaths         int64\n",
       "BsmtBth          object\n",
       "Beds            float64\n",
       "BsmtBeds          int64\n",
       "GarageSpaces    float64\n",
       "houseEra         object\n",
       "dtype: object"
      ]
     },
     "execution_count": 3,
     "metadata": {},
     "output_type": "execute_result"
    }
   ],
   "source": [
    "housePrices.dtypes"
   ]
  },
  {
   "cell_type": "code",
   "execution_count": 4,
   "metadata": {
    "colab": {
     "base_uri": "https://localhost:8080/"
    },
    "id": "nngEWwnpx6eJ",
    "outputId": "a0506047-f179-4b92-c184-db0ab2086dd3"
   },
   "outputs": [
    {
     "data": {
      "text/plain": [
       "SoldPr          float64\n",
       "Type             object\n",
       "Zip              object\n",
       "Area              int64\n",
       "Rooms             int64\n",
       "FullBaths         int64\n",
       "HalfBaths         int64\n",
       "BsmtBth          object\n",
       "Beds            float64\n",
       "BsmtBeds          int64\n",
       "GarageSpaces    float64\n",
       "houseEra         object\n",
       "dtype: object"
      ]
     },
     "execution_count": 4,
     "metadata": {},
     "output_type": "execute_result"
    }
   ],
   "source": [
    "housePrices['Zip'] = housePrices['Zip'].astype(str)\n",
    "housePrices.dtypes"
   ]
  },
  {
   "cell_type": "markdown",
   "metadata": {},
   "source": [
    "# Calculate missing values in each feature :"
   ]
  },
  {
   "cell_type": "code",
   "execution_count": 6,
   "metadata": {},
   "outputs": [
    {
     "data": {
      "text/html": [
       "<div>\n",
       "<style scoped>\n",
       "    .dataframe tbody tr th:only-of-type {\n",
       "        vertical-align: middle;\n",
       "    }\n",
       "\n",
       "    .dataframe tbody tr th {\n",
       "        vertical-align: top;\n",
       "    }\n",
       "\n",
       "    .dataframe thead th {\n",
       "        text-align: right;\n",
       "    }\n",
       "</style>\n",
       "<table border=\"1\" class=\"dataframe\">\n",
       "  <thead>\n",
       "    <tr style=\"text-align: right;\">\n",
       "      <th></th>\n",
       "      <th>SoldPr</th>\n",
       "      <th>Type</th>\n",
       "      <th>Zip</th>\n",
       "      <th>Area</th>\n",
       "      <th>Rooms</th>\n",
       "      <th>FullBaths</th>\n",
       "      <th>HalfBaths</th>\n",
       "      <th>BsmtBth</th>\n",
       "      <th>Beds</th>\n",
       "      <th>BsmtBeds</th>\n",
       "      <th>GarageSpaces</th>\n",
       "      <th>houseEra</th>\n",
       "    </tr>\n",
       "  </thead>\n",
       "  <tbody>\n",
       "    <tr>\n",
       "      <th>3500</th>\n",
       "      <td>False</td>\n",
       "      <td>False</td>\n",
       "      <td>False</td>\n",
       "      <td>False</td>\n",
       "      <td>False</td>\n",
       "      <td>False</td>\n",
       "      <td>False</td>\n",
       "      <td>False</td>\n",
       "      <td>False</td>\n",
       "      <td>False</td>\n",
       "      <td>False</td>\n",
       "      <td>False</td>\n",
       "    </tr>\n",
       "    <tr>\n",
       "      <th>6859</th>\n",
       "      <td>False</td>\n",
       "      <td>False</td>\n",
       "      <td>False</td>\n",
       "      <td>False</td>\n",
       "      <td>False</td>\n",
       "      <td>False</td>\n",
       "      <td>False</td>\n",
       "      <td>False</td>\n",
       "      <td>False</td>\n",
       "      <td>False</td>\n",
       "      <td>False</td>\n",
       "      <td>False</td>\n",
       "    </tr>\n",
       "    <tr>\n",
       "      <th>6623</th>\n",
       "      <td>False</td>\n",
       "      <td>False</td>\n",
       "      <td>False</td>\n",
       "      <td>False</td>\n",
       "      <td>False</td>\n",
       "      <td>False</td>\n",
       "      <td>False</td>\n",
       "      <td>False</td>\n",
       "      <td>False</td>\n",
       "      <td>False</td>\n",
       "      <td>False</td>\n",
       "      <td>False</td>\n",
       "    </tr>\n",
       "    <tr>\n",
       "      <th>8672</th>\n",
       "      <td>False</td>\n",
       "      <td>False</td>\n",
       "      <td>False</td>\n",
       "      <td>False</td>\n",
       "      <td>False</td>\n",
       "      <td>False</td>\n",
       "      <td>False</td>\n",
       "      <td>False</td>\n",
       "      <td>False</td>\n",
       "      <td>False</td>\n",
       "      <td>False</td>\n",
       "      <td>False</td>\n",
       "    </tr>\n",
       "    <tr>\n",
       "      <th>4572</th>\n",
       "      <td>False</td>\n",
       "      <td>False</td>\n",
       "      <td>False</td>\n",
       "      <td>False</td>\n",
       "      <td>False</td>\n",
       "      <td>False</td>\n",
       "      <td>False</td>\n",
       "      <td>False</td>\n",
       "      <td>False</td>\n",
       "      <td>False</td>\n",
       "      <td>False</td>\n",
       "      <td>False</td>\n",
       "    </tr>\n",
       "  </tbody>\n",
       "</table>\n",
       "</div>"
      ],
      "text/plain": [
       "      SoldPr   Type    Zip   Area  Rooms  FullBaths  HalfBaths  BsmtBth  \\\n",
       "3500   False  False  False  False  False      False      False    False   \n",
       "6859   False  False  False  False  False      False      False    False   \n",
       "6623   False  False  False  False  False      False      False    False   \n",
       "8672   False  False  False  False  False      False      False    False   \n",
       "4572   False  False  False  False  False      False      False    False   \n",
       "\n",
       "       Beds  BsmtBeds  GarageSpaces  houseEra  \n",
       "3500  False     False         False     False  \n",
       "6859  False     False         False     False  \n",
       "6623  False     False         False     False  \n",
       "8672  False     False         False     False  \n",
       "4572  False     False         False     False  "
      ]
     },
     "execution_count": 6,
     "metadata": {},
     "output_type": "execute_result"
    }
   ],
   "source": [
    "missing_data = housePrices.isnull()\n",
    "missing_data.head()"
   ]
  },
  {
   "cell_type": "markdown",
   "metadata": {},
   "source": [
    "# Get summary of missing values in each feature :"
   ]
  },
  {
   "cell_type": "code",
   "execution_count": 7,
   "metadata": {},
   "outputs": [
    {
     "name": "stdout",
     "output_type": "stream",
     "text": [
      "SoldPr\n",
      "False    9358\n",
      "Name: count, dtype: int64\n",
      " \n",
      "Type\n",
      "False    9358\n",
      "Name: count, dtype: int64\n",
      " \n",
      "Zip\n",
      "False    9358\n",
      "Name: count, dtype: int64\n",
      " \n",
      "Area\n",
      "False    9358\n",
      "Name: count, dtype: int64\n",
      " \n",
      "Rooms\n",
      "False    9358\n",
      "Name: count, dtype: int64\n",
      " \n",
      "FullBaths\n",
      "False    9358\n",
      "Name: count, dtype: int64\n",
      " \n",
      "HalfBaths\n",
      "False    9358\n",
      "Name: count, dtype: int64\n",
      " \n",
      "BsmtBth\n",
      "False    9358\n",
      "Name: count, dtype: int64\n",
      " \n",
      "Beds\n",
      "False    9358\n",
      "Name: count, dtype: int64\n",
      " \n",
      "BsmtBeds\n",
      "False    9358\n",
      "Name: count, dtype: int64\n",
      " \n",
      "GarageSpaces\n",
      "False    9358\n",
      "Name: count, dtype: int64\n",
      " \n",
      "houseEra\n",
      "False    9358\n",
      "Name: count, dtype: int64\n",
      " \n"
     ]
    }
   ],
   "source": [
    "for column in missing_data.columns.values.tolist():\n",
    "    print(missing_data[column].value_counts())\n",
    "    print(\" \")"
   ]
  },
  {
   "cell_type": "markdown",
   "metadata": {},
   "source": [
    "# Checking The Dataset :"
   ]
  },
  {
   "cell_type": "code",
   "execution_count": 10,
   "metadata": {},
   "outputs": [
    {
     "name": "stdout",
     "output_type": "stream",
     "text": [
      "<class 'pandas.core.frame.DataFrame'>\n",
      "Index: 9358 entries, 3500 to 727\n",
      "Data columns (total 12 columns):\n",
      " #   Column        Non-Null Count  Dtype  \n",
      "---  ------        --------------  -----  \n",
      " 0   SoldPr        9358 non-null   float64\n",
      " 1   Type          9358 non-null   object \n",
      " 2   Zip           9358 non-null   object \n",
      " 3   Area          9358 non-null   int64  \n",
      " 4   Rooms         9358 non-null   int64  \n",
      " 5   FullBaths     9358 non-null   int64  \n",
      " 6   HalfBaths     9358 non-null   int64  \n",
      " 7   BsmtBth       9358 non-null   object \n",
      " 8   Beds          9358 non-null   float64\n",
      " 9   BsmtBeds      9358 non-null   int64  \n",
      " 10  GarageSpaces  9358 non-null   float64\n",
      " 11  houseEra      9358 non-null   object \n",
      "dtypes: float64(3), int64(5), object(4)\n",
      "memory usage: 950.4+ KB\n"
     ]
    }
   ],
   "source": [
    "housePrices.info()"
   ]
  },
  {
   "cell_type": "markdown",
   "metadata": {},
   "source": [
    "# Saving Cleaned Dataset:"
   ]
  },
  {
   "cell_type": "code",
   "execution_count": null,
   "metadata": {},
   "outputs": [],
   "source": [
    "housePrices.to_csv('cleaned_dataset.csv')"
   ]
  }
 ],
 "metadata": {
  "colab": {
   "history_visible": true,
   "name": "housePricePrediction2.ipynb",
   "provenance": [],
   "toc_visible": true
  },
  "kernelspec": {
   "display_name": "Python 3 (ipykernel)",
   "language": "python",
   "name": "python3"
  },
  "language_info": {
   "codemirror_mode": {
    "name": "ipython",
    "version": 3
   },
   "file_extension": ".py",
   "mimetype": "text/x-python",
   "name": "python",
   "nbconvert_exporter": "python",
   "pygments_lexer": "ipython3",
   "version": "3.10.14"
  }
 },
 "nbformat": 4,
 "nbformat_minor": 4
}
