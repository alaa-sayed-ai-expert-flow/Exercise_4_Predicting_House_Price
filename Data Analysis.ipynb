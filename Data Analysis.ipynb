{
 "cells": [
  {
   "cell_type": "markdown",
   "metadata": {},
   "source": [
    "# Import packages"
   ]
  },
  {
   "cell_type": "code",
   "execution_count": 1,
   "metadata": {},
   "outputs": [],
   "source": [
    "# Surpress warnings:\n",
    "def warn(*args, **kwargs):\n",
    "    pass\n",
    "import warnings\n",
    "warnings.warn = warn"
   ]
  },
  {
   "cell_type": "code",
   "execution_count": 2,
   "metadata": {},
   "outputs": [],
   "source": [
    "#!pip install -U scikit-learn"
   ]
  },
  {
   "cell_type": "code",
   "execution_count": 3,
   "metadata": {},
   "outputs": [],
   "source": [
    "import scipy.stats as stats"
   ]
  },
  {
   "cell_type": "code",
   "execution_count": 5,
   "metadata": {},
   "outputs": [],
   "source": [
    "import pandas as pd\n",
    "import matplotlib.pyplot as plt\n",
    "import numpy as np\n",
    "import seaborn as sns\n",
    "from sklearn.pipeline import Pipeline\n",
    "from sklearn.preprocessing import StandardScaler,PolynomialFeatures\n",
    "from sklearn.linear_model import LinearRegression\n",
    "%matplotlib inline"
   ]
  },
  {
   "cell_type": "markdown",
   "metadata": {},
   "source": [
    "# Module 1: Importing Data Sets\n"
   ]
  },
  {
   "cell_type": "code",
   "execution_count": 6,
   "metadata": {},
   "outputs": [],
   "source": [
    "df = pd.read_csv('cleaned_dataset.csv')"
   ]
  },
  {
   "cell_type": "code",
   "execution_count": 7,
   "metadata": {},
   "outputs": [
    {
     "data": {
      "text/html": [
       "<div>\n",
       "<style scoped>\n",
       "    .dataframe tbody tr th:only-of-type {\n",
       "        vertical-align: middle;\n",
       "    }\n",
       "\n",
       "    .dataframe tbody tr th {\n",
       "        vertical-align: top;\n",
       "    }\n",
       "\n",
       "    .dataframe thead th {\n",
       "        text-align: right;\n",
       "    }\n",
       "</style>\n",
       "<table border=\"1\" class=\"dataframe\">\n",
       "  <thead>\n",
       "    <tr style=\"text-align: right;\">\n",
       "      <th></th>\n",
       "      <th>Unnamed: 0</th>\n",
       "      <th>SoldPr</th>\n",
       "      <th>Type</th>\n",
       "      <th>Zip</th>\n",
       "      <th>Area</th>\n",
       "      <th>Rooms</th>\n",
       "      <th>FullBaths</th>\n",
       "      <th>HalfBaths</th>\n",
       "      <th>BsmtBth</th>\n",
       "      <th>Beds</th>\n",
       "      <th>BsmtBeds</th>\n",
       "      <th>GarageSpaces</th>\n",
       "      <th>houseEra</th>\n",
       "    </tr>\n",
       "  </thead>\n",
       "  <tbody>\n",
       "    <tr>\n",
       "      <th>0</th>\n",
       "      <td>3500</td>\n",
       "      <td>294718.041797</td>\n",
       "      <td>SFH</td>\n",
       "      <td>60077</td>\n",
       "      <td>1100</td>\n",
       "      <td>7</td>\n",
       "      <td>1</td>\n",
       "      <td>0</td>\n",
       "      <td>No</td>\n",
       "      <td>3.0</td>\n",
       "      <td>0</td>\n",
       "      <td>2.0</td>\n",
       "      <td>19A</td>\n",
       "    </tr>\n",
       "    <tr>\n",
       "      <th>1</th>\n",
       "      <td>6859</td>\n",
       "      <td>330946.875000</td>\n",
       "      <td>SFH</td>\n",
       "      <td>60025</td>\n",
       "      <td>1600</td>\n",
       "      <td>6</td>\n",
       "      <td>2</td>\n",
       "      <td>0</td>\n",
       "      <td>No</td>\n",
       "      <td>3.0</td>\n",
       "      <td>0</td>\n",
       "      <td>2.0</td>\n",
       "      <td>19B</td>\n",
       "    </tr>\n",
       "    <tr>\n",
       "      <th>2</th>\n",
       "      <td>6623</td>\n",
       "      <td>415125.000000</td>\n",
       "      <td>SFH</td>\n",
       "      <td>60025</td>\n",
       "      <td>1500</td>\n",
       "      <td>7</td>\n",
       "      <td>2</td>\n",
       "      <td>0</td>\n",
       "      <td>Yes</td>\n",
       "      <td>3.0</td>\n",
       "      <td>0</td>\n",
       "      <td>2.0</td>\n",
       "      <td>19A</td>\n",
       "    </tr>\n",
       "    <tr>\n",
       "      <th>3</th>\n",
       "      <td>8672</td>\n",
       "      <td>336662.931641</td>\n",
       "      <td>SFH</td>\n",
       "      <td>60076</td>\n",
       "      <td>1422</td>\n",
       "      <td>9</td>\n",
       "      <td>1</td>\n",
       "      <td>1</td>\n",
       "      <td>No</td>\n",
       "      <td>3.0</td>\n",
       "      <td>0</td>\n",
       "      <td>2.5</td>\n",
       "      <td>19A</td>\n",
       "    </tr>\n",
       "    <tr>\n",
       "      <th>4</th>\n",
       "      <td>4572</td>\n",
       "      <td>571775.077344</td>\n",
       "      <td>SFH</td>\n",
       "      <td>60062</td>\n",
       "      <td>2668</td>\n",
       "      <td>8</td>\n",
       "      <td>2</td>\n",
       "      <td>1</td>\n",
       "      <td>No</td>\n",
       "      <td>4.0</td>\n",
       "      <td>0</td>\n",
       "      <td>2.0</td>\n",
       "      <td>19A</td>\n",
       "    </tr>\n",
       "  </tbody>\n",
       "</table>\n",
       "</div>"
      ],
      "text/plain": [
       "   Unnamed: 0         SoldPr Type    Zip  Area  Rooms  FullBaths  HalfBaths  \\\n",
       "0        3500  294718.041797  SFH  60077  1100      7          1          0   \n",
       "1        6859  330946.875000  SFH  60025  1600      6          2          0   \n",
       "2        6623  415125.000000  SFH  60025  1500      7          2          0   \n",
       "3        8672  336662.931641  SFH  60076  1422      9          1          1   \n",
       "4        4572  571775.077344  SFH  60062  2668      8          2          1   \n",
       "\n",
       "  BsmtBth  Beds  BsmtBeds  GarageSpaces houseEra  \n",
       "0      No   3.0         0           2.0      19A  \n",
       "1      No   3.0         0           2.0      19B  \n",
       "2     Yes   3.0         0           2.0      19A  \n",
       "3      No   3.0         0           2.5      19A  \n",
       "4      No   4.0         0           2.0      19A  "
      ]
     },
     "execution_count": 7,
     "metadata": {},
     "output_type": "execute_result"
    }
   ],
   "source": [
    "df.head()"
   ]
  },
  {
   "cell_type": "code",
   "execution_count": 8,
   "metadata": {},
   "outputs": [
    {
     "data": {
      "text/plain": [
       "Unnamed: 0        int64\n",
       "SoldPr          float64\n",
       "Type             object\n",
       "Zip               int64\n",
       "Area              int64\n",
       "Rooms             int64\n",
       "FullBaths         int64\n",
       "HalfBaths         int64\n",
       "BsmtBth          object\n",
       "Beds            float64\n",
       "BsmtBeds          int64\n",
       "GarageSpaces    float64\n",
       "houseEra         object\n",
       "dtype: object"
      ]
     },
     "execution_count": 8,
     "metadata": {},
     "output_type": "execute_result"
    }
   ],
   "source": [
    "df.dtypes"
   ]
  },
  {
   "cell_type": "code",
   "execution_count": 9,
   "metadata": {},
   "outputs": [
    {
     "data": {
      "text/html": [
       "<div>\n",
       "<style scoped>\n",
       "    .dataframe tbody tr th:only-of-type {\n",
       "        vertical-align: middle;\n",
       "    }\n",
       "\n",
       "    .dataframe tbody tr th {\n",
       "        vertical-align: top;\n",
       "    }\n",
       "\n",
       "    .dataframe thead th {\n",
       "        text-align: right;\n",
       "    }\n",
       "</style>\n",
       "<table border=\"1\" class=\"dataframe\">\n",
       "  <thead>\n",
       "    <tr style=\"text-align: right;\">\n",
       "      <th></th>\n",
       "      <th>Unnamed: 0</th>\n",
       "      <th>SoldPr</th>\n",
       "      <th>Zip</th>\n",
       "      <th>Area</th>\n",
       "      <th>Rooms</th>\n",
       "      <th>FullBaths</th>\n",
       "      <th>HalfBaths</th>\n",
       "      <th>Beds</th>\n",
       "      <th>BsmtBeds</th>\n",
       "      <th>GarageSpaces</th>\n",
       "    </tr>\n",
       "  </thead>\n",
       "  <tbody>\n",
       "    <tr>\n",
       "      <th>count</th>\n",
       "      <td>9358.000000</td>\n",
       "      <td>9.358000e+03</td>\n",
       "      <td>9358.000000</td>\n",
       "      <td>9358.000000</td>\n",
       "      <td>9358.000000</td>\n",
       "      <td>9358.000000</td>\n",
       "      <td>9358.000000</td>\n",
       "      <td>9358.000000</td>\n",
       "      <td>9358.000000</td>\n",
       "      <td>9358.000000</td>\n",
       "    </tr>\n",
       "    <tr>\n",
       "      <th>mean</th>\n",
       "      <td>4678.500000</td>\n",
       "      <td>4.891052e+05</td>\n",
       "      <td>60078.897841</td>\n",
       "      <td>2232.239474</td>\n",
       "      <td>7.997649</td>\n",
       "      <td>2.233918</td>\n",
       "      <td>0.555567</td>\n",
       "      <td>3.233223</td>\n",
       "      <td>0.145651</td>\n",
       "      <td>1.672227</td>\n",
       "    </tr>\n",
       "    <tr>\n",
       "      <th>std</th>\n",
       "      <td>2701.566243</td>\n",
       "      <td>3.403204e+05</td>\n",
       "      <td>67.498533</td>\n",
       "      <td>1246.771560</td>\n",
       "      <td>2.499160</td>\n",
       "      <td>0.989145</td>\n",
       "      <td>0.579531</td>\n",
       "      <td>1.030825</td>\n",
       "      <td>0.389901</td>\n",
       "      <td>1.348296</td>\n",
       "    </tr>\n",
       "    <tr>\n",
       "      <th>min</th>\n",
       "      <td>0.000000</td>\n",
       "      <td>2.562500e+04</td>\n",
       "      <td>60002.000000</td>\n",
       "      <td>372.000000</td>\n",
       "      <td>1.000000</td>\n",
       "      <td>0.000000</td>\n",
       "      <td>0.000000</td>\n",
       "      <td>0.000000</td>\n",
       "      <td>0.000000</td>\n",
       "      <td>0.000000</td>\n",
       "    </tr>\n",
       "    <tr>\n",
       "      <th>25%</th>\n",
       "      <td>2339.250000</td>\n",
       "      <td>2.731625e+05</td>\n",
       "      <td>60053.000000</td>\n",
       "      <td>1349.000000</td>\n",
       "      <td>6.000000</td>\n",
       "      <td>2.000000</td>\n",
       "      <td>0.000000</td>\n",
       "      <td>3.000000</td>\n",
       "      <td>0.000000</td>\n",
       "      <td>1.000000</td>\n",
       "    </tr>\n",
       "    <tr>\n",
       "      <th>50%</th>\n",
       "      <td>4678.500000</td>\n",
       "      <td>3.863345e+05</td>\n",
       "      <td>60062.000000</td>\n",
       "      <td>1873.000000</td>\n",
       "      <td>8.000000</td>\n",
       "      <td>2.000000</td>\n",
       "      <td>1.000000</td>\n",
       "      <td>3.000000</td>\n",
       "      <td>0.000000</td>\n",
       "      <td>2.000000</td>\n",
       "    </tr>\n",
       "    <tr>\n",
       "      <th>75%</th>\n",
       "      <td>7017.750000</td>\n",
       "      <td>6.041094e+05</td>\n",
       "      <td>60077.000000</td>\n",
       "      <td>2769.750000</td>\n",
       "      <td>9.000000</td>\n",
       "      <td>3.000000</td>\n",
       "      <td>1.000000</td>\n",
       "      <td>4.000000</td>\n",
       "      <td>0.000000</td>\n",
       "      <td>2.000000</td>\n",
       "    </tr>\n",
       "    <tr>\n",
       "      <th>max</th>\n",
       "      <td>9357.000000</td>\n",
       "      <td>4.746395e+06</td>\n",
       "      <td>63104.000000</td>\n",
       "      <td>17365.000000</td>\n",
       "      <td>18.000000</td>\n",
       "      <td>8.000000</td>\n",
       "      <td>5.000000</td>\n",
       "      <td>11.000000</td>\n",
       "      <td>3.000000</td>\n",
       "      <td>79.000000</td>\n",
       "    </tr>\n",
       "  </tbody>\n",
       "</table>\n",
       "</div>"
      ],
      "text/plain": [
       "        Unnamed: 0        SoldPr           Zip          Area        Rooms  \\\n",
       "count  9358.000000  9.358000e+03   9358.000000   9358.000000  9358.000000   \n",
       "mean   4678.500000  4.891052e+05  60078.897841   2232.239474     7.997649   \n",
       "std    2701.566243  3.403204e+05     67.498533   1246.771560     2.499160   \n",
       "min       0.000000  2.562500e+04  60002.000000    372.000000     1.000000   \n",
       "25%    2339.250000  2.731625e+05  60053.000000   1349.000000     6.000000   \n",
       "50%    4678.500000  3.863345e+05  60062.000000   1873.000000     8.000000   \n",
       "75%    7017.750000  6.041094e+05  60077.000000   2769.750000     9.000000   \n",
       "max    9357.000000  4.746395e+06  63104.000000  17365.000000    18.000000   \n",
       "\n",
       "         FullBaths    HalfBaths         Beds     BsmtBeds  GarageSpaces  \n",
       "count  9358.000000  9358.000000  9358.000000  9358.000000   9358.000000  \n",
       "mean      2.233918     0.555567     3.233223     0.145651      1.672227  \n",
       "std       0.989145     0.579531     1.030825     0.389901      1.348296  \n",
       "min       0.000000     0.000000     0.000000     0.000000      0.000000  \n",
       "25%       2.000000     0.000000     3.000000     0.000000      1.000000  \n",
       "50%       2.000000     1.000000     3.000000     0.000000      2.000000  \n",
       "75%       3.000000     1.000000     4.000000     0.000000      2.000000  \n",
       "max       8.000000     5.000000    11.000000     3.000000     79.000000  "
      ]
     },
     "execution_count": 9,
     "metadata": {},
     "output_type": "execute_result"
    }
   ],
   "source": [
    "df.describe()"
   ]
  },
  {
   "cell_type": "markdown",
   "metadata": {},
   "source": [
    "# Data Wrangling"
   ]
  },
  {
   "cell_type": "code",
   "execution_count": 10,
   "metadata": {},
   "outputs": [],
   "source": [
    "df.drop(\"Unnamed: 0\" , inplace = True , axis = 1)"
   ]
  },
  {
   "cell_type": "code",
   "execution_count": 11,
   "metadata": {},
   "outputs": [
    {
     "data": {
      "text/html": [
       "<div>\n",
       "<style scoped>\n",
       "    .dataframe tbody tr th:only-of-type {\n",
       "        vertical-align: middle;\n",
       "    }\n",
       "\n",
       "    .dataframe tbody tr th {\n",
       "        vertical-align: top;\n",
       "    }\n",
       "\n",
       "    .dataframe thead th {\n",
       "        text-align: right;\n",
       "    }\n",
       "</style>\n",
       "<table border=\"1\" class=\"dataframe\">\n",
       "  <thead>\n",
       "    <tr style=\"text-align: right;\">\n",
       "      <th></th>\n",
       "      <th>SoldPr</th>\n",
       "      <th>Type</th>\n",
       "      <th>Zip</th>\n",
       "      <th>Area</th>\n",
       "      <th>Rooms</th>\n",
       "      <th>FullBaths</th>\n",
       "      <th>HalfBaths</th>\n",
       "      <th>BsmtBth</th>\n",
       "      <th>Beds</th>\n",
       "      <th>BsmtBeds</th>\n",
       "      <th>GarageSpaces</th>\n",
       "      <th>houseEra</th>\n",
       "    </tr>\n",
       "  </thead>\n",
       "  <tbody>\n",
       "    <tr>\n",
       "      <th>0</th>\n",
       "      <td>294718.041797</td>\n",
       "      <td>SFH</td>\n",
       "      <td>60077</td>\n",
       "      <td>1100</td>\n",
       "      <td>7</td>\n",
       "      <td>1</td>\n",
       "      <td>0</td>\n",
       "      <td>No</td>\n",
       "      <td>3.0</td>\n",
       "      <td>0</td>\n",
       "      <td>2.0</td>\n",
       "      <td>19A</td>\n",
       "    </tr>\n",
       "    <tr>\n",
       "      <th>1</th>\n",
       "      <td>330946.875000</td>\n",
       "      <td>SFH</td>\n",
       "      <td>60025</td>\n",
       "      <td>1600</td>\n",
       "      <td>6</td>\n",
       "      <td>2</td>\n",
       "      <td>0</td>\n",
       "      <td>No</td>\n",
       "      <td>3.0</td>\n",
       "      <td>0</td>\n",
       "      <td>2.0</td>\n",
       "      <td>19B</td>\n",
       "    </tr>\n",
       "  </tbody>\n",
       "</table>\n",
       "</div>"
      ],
      "text/plain": [
       "          SoldPr Type    Zip  Area  Rooms  FullBaths  HalfBaths BsmtBth  Beds  \\\n",
       "0  294718.041797  SFH  60077  1100      7          1          0      No   3.0   \n",
       "1  330946.875000  SFH  60025  1600      6          2          0      No   3.0   \n",
       "\n",
       "   BsmtBeds  GarageSpaces houseEra  \n",
       "0         0           2.0      19A  \n",
       "1         0           2.0      19B  "
      ]
     },
     "execution_count": 11,
     "metadata": {},
     "output_type": "execute_result"
    }
   ],
   "source": [
    "df.head(2)"
   ]
  },
  {
   "cell_type": "code",
   "execution_count": 12,
   "metadata": {},
   "outputs": [
    {
     "data": {
      "text/html": [
       "<div>\n",
       "<style scoped>\n",
       "    .dataframe tbody tr th:only-of-type {\n",
       "        vertical-align: middle;\n",
       "    }\n",
       "\n",
       "    .dataframe tbody tr th {\n",
       "        vertical-align: top;\n",
       "    }\n",
       "\n",
       "    .dataframe thead th {\n",
       "        text-align: right;\n",
       "    }\n",
       "</style>\n",
       "<table border=\"1\" class=\"dataframe\">\n",
       "  <thead>\n",
       "    <tr style=\"text-align: right;\">\n",
       "      <th></th>\n",
       "      <th>SoldPr</th>\n",
       "      <th>Zip</th>\n",
       "      <th>Area</th>\n",
       "      <th>Rooms</th>\n",
       "      <th>FullBaths</th>\n",
       "      <th>HalfBaths</th>\n",
       "      <th>Beds</th>\n",
       "      <th>BsmtBeds</th>\n",
       "      <th>GarageSpaces</th>\n",
       "    </tr>\n",
       "  </thead>\n",
       "  <tbody>\n",
       "    <tr>\n",
       "      <th>count</th>\n",
       "      <td>9.358000e+03</td>\n",
       "      <td>9358.000000</td>\n",
       "      <td>9358.000000</td>\n",
       "      <td>9358.000000</td>\n",
       "      <td>9358.000000</td>\n",
       "      <td>9358.000000</td>\n",
       "      <td>9358.000000</td>\n",
       "      <td>9358.000000</td>\n",
       "      <td>9358.000000</td>\n",
       "    </tr>\n",
       "    <tr>\n",
       "      <th>mean</th>\n",
       "      <td>4.891052e+05</td>\n",
       "      <td>60078.897841</td>\n",
       "      <td>2232.239474</td>\n",
       "      <td>7.997649</td>\n",
       "      <td>2.233918</td>\n",
       "      <td>0.555567</td>\n",
       "      <td>3.233223</td>\n",
       "      <td>0.145651</td>\n",
       "      <td>1.672227</td>\n",
       "    </tr>\n",
       "    <tr>\n",
       "      <th>std</th>\n",
       "      <td>3.403204e+05</td>\n",
       "      <td>67.498533</td>\n",
       "      <td>1246.771560</td>\n",
       "      <td>2.499160</td>\n",
       "      <td>0.989145</td>\n",
       "      <td>0.579531</td>\n",
       "      <td>1.030825</td>\n",
       "      <td>0.389901</td>\n",
       "      <td>1.348296</td>\n",
       "    </tr>\n",
       "    <tr>\n",
       "      <th>min</th>\n",
       "      <td>2.562500e+04</td>\n",
       "      <td>60002.000000</td>\n",
       "      <td>372.000000</td>\n",
       "      <td>1.000000</td>\n",
       "      <td>0.000000</td>\n",
       "      <td>0.000000</td>\n",
       "      <td>0.000000</td>\n",
       "      <td>0.000000</td>\n",
       "      <td>0.000000</td>\n",
       "    </tr>\n",
       "    <tr>\n",
       "      <th>25%</th>\n",
       "      <td>2.731625e+05</td>\n",
       "      <td>60053.000000</td>\n",
       "      <td>1349.000000</td>\n",
       "      <td>6.000000</td>\n",
       "      <td>2.000000</td>\n",
       "      <td>0.000000</td>\n",
       "      <td>3.000000</td>\n",
       "      <td>0.000000</td>\n",
       "      <td>1.000000</td>\n",
       "    </tr>\n",
       "    <tr>\n",
       "      <th>50%</th>\n",
       "      <td>3.863345e+05</td>\n",
       "      <td>60062.000000</td>\n",
       "      <td>1873.000000</td>\n",
       "      <td>8.000000</td>\n",
       "      <td>2.000000</td>\n",
       "      <td>1.000000</td>\n",
       "      <td>3.000000</td>\n",
       "      <td>0.000000</td>\n",
       "      <td>2.000000</td>\n",
       "    </tr>\n",
       "    <tr>\n",
       "      <th>75%</th>\n",
       "      <td>6.041094e+05</td>\n",
       "      <td>60077.000000</td>\n",
       "      <td>2769.750000</td>\n",
       "      <td>9.000000</td>\n",
       "      <td>3.000000</td>\n",
       "      <td>1.000000</td>\n",
       "      <td>4.000000</td>\n",
       "      <td>0.000000</td>\n",
       "      <td>2.000000</td>\n",
       "    </tr>\n",
       "    <tr>\n",
       "      <th>max</th>\n",
       "      <td>4.746395e+06</td>\n",
       "      <td>63104.000000</td>\n",
       "      <td>17365.000000</td>\n",
       "      <td>18.000000</td>\n",
       "      <td>8.000000</td>\n",
       "      <td>5.000000</td>\n",
       "      <td>11.000000</td>\n",
       "      <td>3.000000</td>\n",
       "      <td>79.000000</td>\n",
       "    </tr>\n",
       "  </tbody>\n",
       "</table>\n",
       "</div>"
      ],
      "text/plain": [
       "             SoldPr           Zip          Area        Rooms    FullBaths  \\\n",
       "count  9.358000e+03   9358.000000   9358.000000  9358.000000  9358.000000   \n",
       "mean   4.891052e+05  60078.897841   2232.239474     7.997649     2.233918   \n",
       "std    3.403204e+05     67.498533   1246.771560     2.499160     0.989145   \n",
       "min    2.562500e+04  60002.000000    372.000000     1.000000     0.000000   \n",
       "25%    2.731625e+05  60053.000000   1349.000000     6.000000     2.000000   \n",
       "50%    3.863345e+05  60062.000000   1873.000000     8.000000     2.000000   \n",
       "75%    6.041094e+05  60077.000000   2769.750000     9.000000     3.000000   \n",
       "max    4.746395e+06  63104.000000  17365.000000    18.000000     8.000000   \n",
       "\n",
       "         HalfBaths         Beds     BsmtBeds  GarageSpaces  \n",
       "count  9358.000000  9358.000000  9358.000000   9358.000000  \n",
       "mean      0.555567     3.233223     0.145651      1.672227  \n",
       "std       0.579531     1.030825     0.389901      1.348296  \n",
       "min       0.000000     0.000000     0.000000      0.000000  \n",
       "25%       0.000000     3.000000     0.000000      1.000000  \n",
       "50%       1.000000     3.000000     0.000000      2.000000  \n",
       "75%       1.000000     4.000000     0.000000      2.000000  \n",
       "max       5.000000    11.000000     3.000000     79.000000  "
      ]
     },
     "execution_count": 12,
     "metadata": {},
     "output_type": "execute_result"
    }
   ],
   "source": [
    "df.describe()"
   ]
  },
  {
   "cell_type": "markdown",
   "metadata": {},
   "source": [
    "# Get the Heatmap Correlations between all variables in our Dataset"
   ]
  },
  {
   "cell_type": "code",
   "execution_count": 13,
   "metadata": {},
   "outputs": [
    {
     "data": {
      "image/png": "[encoded data removed]",
      "text/plain": [
       "<Figure size 640x480 with 2 Axes>"
      ]
     },
     "metadata": {},
     "output_type": "display_data"
    }
   ],
   "source": [
    "sns.heatmap(df.corr(numeric_only = True) , cmap='coolwarm' , annot = False)\n",
    "plt.show()"
   ]
  },
  {
   "cell_type": "markdown",
   "metadata": {},
   "source": [
    "# Visualize the Regression Plot of the correlation between 'GarageSpaces' and 'SoldPr'"
   ]
  },
  {
   "cell_type": "code",
   "execution_count": 14,
   "metadata": {},
   "outputs": [
    {
     "data": {
      "text/plain": [
       "Text(0.5, 1.0, \"Regression Plot for Correlation between 'Garage Spaces' and 'Sold Prices'\")"
      ]
     },
     "execution_count": 14,
     "metadata": {},
     "output_type": "execute_result"
    },
    {
     "data": {
      "image/png": "[encoded data removed]",
      "text/plain": [
       "<Figure size 640x480 with 1 Axes>"
      ]
     },
     "metadata": {},
     "output_type": "display_data"
    }
   ],
   "source": [
    "x = df['GarageSpaces']\n",
    "y = df['SoldPr']\n",
    "sns.regplot(x = 'GarageSpaces' , y = 'SoldPr' , data = df)\n",
    "plt.xlabel(\"Garage Spaces\")\n",
    "plt.ylabel(\"Sold Prices\")\n",
    "plt.title(\"Regression Plot for Correlation between 'Garage Spaces' and 'Sold Prices'\")"
   ]
  },
  {
   "cell_type": "markdown",
   "metadata": {},
   "source": [
    "# Get the pearson Correlation between 'Garage Spaces' and 'Sold Prices'"
   ]
  },
  {
   "cell_type": "code",
   "execution_count": 15,
   "metadata": {},
   "outputs": [],
   "source": [
    "pearson_coef_garage_spaces , p_value_garage_spaces = stats.pearsonr(df['GarageSpaces'] , df['SoldPr'])"
   ]
  },
  {
   "cell_type": "code",
   "execution_count": 16,
   "metadata": {},
   "outputs": [
    {
     "name": "stdout",
     "output_type": "stream",
     "text": [
      "Pearson Coefficient =  0.3064280238474624\n",
      "p-value =  1.269786038845299e-202\n"
     ]
    }
   ],
   "source": [
    "print(\"Pearson Coefficient = \" ,pearson_coef_garage_spaces)\n",
    "print(\"p-value = \" , p_value_garage_spaces)"
   ]
  },
  {
   "cell_type": "markdown",
   "metadata": {},
   "source": [
    "From the result we see that : \n",
    "\n",
    "    1) coefficient is close to 0\n",
    "    2) p-value not < 0.001 and not between 0.05 < p-value < 0.1\n",
    "    \n",
    "So, the correlation between 'GarageSpaces' and 'SoldPr' is \"Weak Relationship with no cretainty in result\""
   ]
  },
  {
   "cell_type": "markdown",
   "metadata": {},
   "source": [
    "# Getting the Statistics of FullBaths related to our Houses Dataset"
   ]
  },
  {
   "cell_type": "code",
   "execution_count": 17,
   "metadata": {},
   "outputs": [
    {
     "data": {
      "text/html": [
       "<div>\n",
       "<style scoped>\n",
       "    .dataframe tbody tr th:only-of-type {\n",
       "        vertical-align: middle;\n",
       "    }\n",
       "\n",
       "    .dataframe tbody tr th {\n",
       "        vertical-align: top;\n",
       "    }\n",
       "\n",
       "    .dataframe thead th {\n",
       "        text-align: right;\n",
       "    }\n",
       "</style>\n",
       "<table border=\"1\" class=\"dataframe\">\n",
       "  <thead>\n",
       "    <tr style=\"text-align: right;\">\n",
       "      <th></th>\n",
       "      <th>count</th>\n",
       "    </tr>\n",
       "    <tr>\n",
       "      <th>FullBaths</th>\n",
       "      <th></th>\n",
       "    </tr>\n",
       "  </thead>\n",
       "  <tbody>\n",
       "    <tr>\n",
       "      <th>2</th>\n",
       "      <td>5130</td>\n",
       "    </tr>\n",
       "    <tr>\n",
       "      <th>1</th>\n",
       "      <td>1727</td>\n",
       "    </tr>\n",
       "    <tr>\n",
       "      <th>3</th>\n",
       "      <td>1542</td>\n",
       "    </tr>\n",
       "    <tr>\n",
       "      <th>4</th>\n",
       "      <td>593</td>\n",
       "    </tr>\n",
       "    <tr>\n",
       "      <th>5</th>\n",
       "      <td>282</td>\n",
       "    </tr>\n",
       "    <tr>\n",
       "      <th>6</th>\n",
       "      <td>67</td>\n",
       "    </tr>\n",
       "    <tr>\n",
       "      <th>7</th>\n",
       "      <td>12</td>\n",
       "    </tr>\n",
       "    <tr>\n",
       "      <th>8</th>\n",
       "      <td>3</td>\n",
       "    </tr>\n",
       "    <tr>\n",
       "      <th>0</th>\n",
       "      <td>2</td>\n",
       "    </tr>\n",
       "  </tbody>\n",
       "</table>\n",
       "</div>"
      ],
      "text/plain": [
       "           count\n",
       "FullBaths       \n",
       "2           5130\n",
       "1           1727\n",
       "3           1542\n",
       "4            593\n",
       "5            282\n",
       "6             67\n",
       "7             12\n",
       "8              3\n",
       "0              2"
      ]
     },
     "execution_count": 17,
     "metadata": {},
     "output_type": "execute_result"
    }
   ],
   "source": [
    "df['FullBaths'].value_counts().to_frame()"
   ]
  },
  {
   "cell_type": "markdown",
   "metadata": {},
   "source": [
    "# Visualizing the Relationship between 'FullBaths' and 'Sold Prices' using the Box Plot "
   ]
  },
  {
   "cell_type": "code",
   "execution_count": 18,
   "metadata": {},
   "outputs": [
    {
     "data": {
      "image/png": "[encoded data removed]",
      "text/plain": [
       "<Figure size 640x480 with 1 Axes>"
      ]
     },
     "metadata": {},
     "output_type": "display_data"
    }
   ],
   "source": [
    "x = df['FullBaths'] \n",
    "y = df['SoldPr']\n",
    "sns.boxplot(x = \"FullBaths\" , y = \"SoldPr\" , data = df)\n",
    "plt.xlabel(\"FullBaths\")\n",
    "plt.ylabel(\"SoldPr\")\n",
    "plt.title(\"Box Plot for 'FullBaths' vs. 'SoldPr'\")\n",
    "plt.show()"
   ]
  },
  {
   "cell_type": "code",
   "execution_count": 19,
   "metadata": {},
   "outputs": [
    {
     "data": {
      "image/png": "[encoded data removed]",
      "text/plain": [
       "<Figure size 640x480 with 1 Axes>"
      ]
     },
     "metadata": {},
     "output_type": "display_data"
    }
   ],
   "source": [
    "x = df['FullBaths']\n",
    "y = df['SoldPr']\n",
    "sns.regplot(x = 'FullBaths' , y = 'SoldPr' , data = df)\n",
    "plt.xlabel(\"FullBaths\")\n",
    "plt.ylabel(\"SoldPr\")\n",
    "plt.title(\"Regression Plot for 'FullBaths' vs. 'SoldPr'\")\n",
    "plt.show()"
   ]
  }
 ],
 "metadata": {
  "kernelspec": {
   "display_name": "Python 3 (ipykernel)",
   "language": "python",
   "name": "python3"
  },
  "language_info": {
   "codemirror_mode": {
    "name": "ipython",
    "version": 3
   },
   "file_extension": ".py",
   "mimetype": "text/x-python",
   "name": "python",
   "nbconvert_exporter": "python",
   "pygments_lexer": "ipython3",
   "version": "3.10.14"
  }
 },
 "nbformat": 4,
 "nbformat_minor": 4
}
